{
  "nbformat": 4,
  "nbformat_minor": 0,
  "metadata": {
    "colab": {
      "name": "888draft.ipynb",
      "provenance": [],
      "include_colab_link": true
    },
    "kernelspec": {
      "name": "python3",
      "display_name": "Python 3"
    }
  },
  "cells": [
    {
      "cell_type": "markdown",
      "metadata": {
        "id": "view-in-github",
        "colab_type": "text"
      },
      "source": [
        "<a href=\"https://colab.research.google.com/github/CNIU1997/BA_888/blob/master/888draft.ipynb\" target=\"_parent\"><img src=\"https://colab.research.google.com/assets/colab-badge.svg\" alt=\"Open In Colab\"/></a>"
      ]
    },
    {
      "cell_type": "code",
      "metadata": {
        "id": "M5TOa-aGvIJy",
        "colab_type": "code",
        "colab": {}
      },
      "source": [
        "# import pandas as pd\n",
        "# import numpy as np\n",
        "\n",
        "# train = pd.read_csv('train_data.csv',index_col=0)\n",
        "# train = train.iloc[:-2].drop(['X1','PRICE_VAR','year'],axis=1)\n",
        "# train = pd.get_dummies(train, columns=['Sector'])\n",
        "# cols = train.select_dtypes(exclude=['float']).columns\n",
        "# train[cols] = train[cols].apply(pd.to_numeric, downcast='float', errors='coerce')"
      ],
      "execution_count": 0,
      "outputs": []
    },
    {
      "cell_type": "code",
      "metadata": {
        "id": "GOF81zmBjtxc",
        "colab_type": "code",
        "colab": {}
      },
      "source": [
        "# trainp = (train\n",
        "#      .pipe(lambda df: df.loc[:, df.dtypes.values != np.dtype('O')])  # drop str columns\n",
        "#      .pipe(lambda df: df.loc[:, (df.isnull().sum(axis='rows') < 8000).where(lambda v: v).dropna().index.values])  # drop columns with greater than 10000 null values\n",
        "#      .dropna()\n",
        "# )\n",
        "# print(trainp)"
      ],
      "execution_count": 0,
      "outputs": []
    },
    {
      "cell_type": "code",
      "metadata": {
        "id": "8JHUQ_Up0Elt",
        "colab_type": "code",
        "colab": {}
      },
      "source": [
        "# # trainp=pd.get_dummies(train, columns=['Sector'])\n",
        "# # trainp['PRICE_VAR'] = pd.to_numeric(trainp['PRICE_VAR'], errors='coerce')\n",
        "# y = trainp['Class']\n",
        "# X = trainp.drop(['Class'],axis=1)\n",
        "# # X[X==np.inf]=np.nan\n",
        "# # X.fillna(X.mean(), inplace=True)"
      ],
      "execution_count": 0,
      "outputs": []
    },
    {
      "cell_type": "code",
      "metadata": {
        "id": "AXhLmW5-Hwkx",
        "colab_type": "code",
        "colab": {}
      },
      "source": [
        "# from sklearn.feature_selection import mutual_info_classif\n",
        "# import matplotlib.pyplot as plt\n",
        "# import seaborn as sns\n",
        "# stock_mutual_information = mutual_info_classif(X, y)\n",
        "\n",
        "# plt.subplots(1,figsize=(200,1))\n",
        "# sns.heatmap(stock_mutual_information[:, np.newaxis].T, cmap='Blues', cbar=False, linewidths=1, annot=True)\n",
        "# plt.yticks([], [])\n",
        "# plt.gca().set_xticklabels(trainp.columns[1:], rotation=45, ha='right', fontsize=12)\n",
        "# plt.suptitle(\"Stock Variable Importance (mutual_info_classif)\", fontsize=18, y=1.2)\n",
        "# plt.gcf().subplots_adjust(wspace=0.2)\n",
        "# pass"
      ],
      "execution_count": 0,
      "outputs": []
    },
    {
      "cell_type": "code",
      "metadata": {
        "id": "cBEvRi7By-y1",
        "colab_type": "code",
        "colab": {}
      },
      "source": [
        "# from sklearn.feature_selection import GenericUnivariateSelect\n",
        "# trans = GenericUnivariateSelect(score_func=mutual_info_classif, mode='percentile',param=10)\n",
        "# stock_X_trans = trans.fit_transform(X, y)\n",
        "# print(\"We started with {0} features but retained only {1} of them!\".format(X.shape[1] - 1, stock_X_trans.shape[1]))"
      ],
      "execution_count": 0,
      "outputs": []
    },
    {
      "cell_type": "code",
      "metadata": {
        "id": "DH_VAvZt1uZ8",
        "colab_type": "code",
        "colab": {}
      },
      "source": [
        "# columns_retained_Select = X.columns[trans.get_support()].values\n",
        "# list(pd.DataFrame(stock_X_trans, columns=columns_retained_Select).keys())"
      ],
      "execution_count": 0,
      "outputs": []
    },
    {
      "cell_type": "code",
      "metadata": {
        "id": "DEwqCFZu3bqf",
        "colab_type": "code",
        "colab": {}
      },
      "source": [
        "# from sklearn.tree import DecisionTreeClassifier\n",
        "\n",
        "# clf = DecisionTreeClassifier()\n",
        "# clf.fit(X, y)\n",
        "\n",
        "# pd.Series(clf.feature_importances_, index=trainp.columns[1:]).plot.bar(color='steelblue', figsize=(50, 6))"
      ],
      "execution_count": 0,
      "outputs": []
    },
    {
      "cell_type": "code",
      "metadata": {
        "id": "wVS5wstl5Keb",
        "colab_type": "code",
        "colab": {}
      },
      "source": [
        "# from sklearn.feature_selection import SelectFromModel\n",
        "\n",
        "# clf = DecisionTreeClassifier()\n",
        "# trans = SelectFromModel(clf, threshold='2*mean')\n",
        "# stock1_X_trans = trans.fit_transform(X, y)\n",
        "# print(\"We started with {0} features but retained only {1} of them!\".format(X.shape[1] - 1, stock1_X_trans.shape[1]))"
      ],
      "execution_count": 0,
      "outputs": []
    },
    {
      "cell_type": "code",
      "metadata": {
        "id": "eJqgYElI5YPx",
        "colab_type": "code",
        "colab": {}
      },
      "source": [
        "# columns_retained_FromMode = X.columns[trans.get_support()]\n",
        "# pd.DataFrame(stock1_X_trans, columns=columns_retained_FromMode).keys()"
      ],
      "execution_count": 0,
      "outputs": []
    },
    {
      "cell_type": "code",
      "metadata": {
        "id": "WQ47dSr37Gdo",
        "colab_type": "code",
        "colab": {}
      },
      "source": [
        "# from sklearn.feature_selection import RFE\n",
        "\n",
        "# clf = DecisionTreeClassifier()\n",
        "# trans = RFE(clf, n_features_to_select=20)\n",
        "# stock2_X_trans = trans.fit_transform(X, y)\n",
        "# columns_retained_RFE = X.columns[trans.get_support()].values\n"
      ],
      "execution_count": 0,
      "outputs": []
    },
    {
      "cell_type": "code",
      "metadata": {
        "id": "6aXpwNBk8uBl",
        "colab_type": "code",
        "colab": {}
      },
      "source": [
        "# from sklearn.feature_selection import RFECV\n",
        "\n",
        "# clf = DecisionTreeClassifier()\n",
        "# trans = RFECV(clf)\n",
        "# stock3_X_trans = trans.fit_transform(X, y)\n",
        "# columns_retained_RFECV = X.columns[trans.get_support()].values\n",
        "# len(columns_retained_RFECV)"
      ],
      "execution_count": 0,
      "outputs": []
    },
    {
      "cell_type": "code",
      "metadata": {
        "id": "HBMnb3MVx6PD",
        "colab_type": "code",
        "colab": {}
      },
      "source": [
        "# import itertools\n",
        "# pairs = {}\n",
        "# for (i, (a, b)) in enumerate(itertools.combinations([set(columns_retained_Select), set(columns_retained_FromMode)],2)):\n",
        "#     pairs.update({str(i): len(a.difference(b))})\n",
        "    \n",
        "# print(\"Enumerating differences between  3!\")\n",
        "# list(pairs.values())"
      ],
      "execution_count": 0,
      "outputs": []
    },
    {
      "cell_type": "code",
      "metadata": {
        "id": "c_CCH80YrxcH",
        "colab_type": "code",
        "colab": {}
      },
      "source": [
        "# # model used for feature importances\n",
        "# import lightgbm as lgb\n",
        "\n",
        "# # utility for early stopping with a validation set\n",
        "# from sklearn.model_selection import train_test_split\n",
        "\n",
        "# # visualizations\n",
        "# import matplotlib.pyplot as plt\n",
        "# import seaborn as sns\n",
        "\n",
        "# # memory management\n",
        "# import gc\n",
        "\n",
        "# # utilities\n",
        "# from itertools import chain\n",
        "\n",
        "# class FeatureSelector():\n",
        "#     \"\"\"\n",
        "#     Class for performing feature selection for machine learning or data preprocessing.\n",
        "    \n",
        "#     Implements five different methods to identify features for removal \n",
        "    \n",
        "#         1. Find columns with a missing percentage greater than a specified threshold\n",
        "#         2. Find columns with a single unique value\n",
        "#         3. Find collinear variables with a correlation greater than a specified correlation coefficient\n",
        "#         4. Find features with 0.0 feature importance from a gradient boosting machine (gbm)\n",
        "#         5. Find low importance features that do not contribute to a specified cumulative feature importance from the gbm\n",
        "        \n",
        "#     Parameters\n",
        "#     --------\n",
        "#         data : dataframe\n",
        "#             A dataset with observations in the rows and features in the columns\n",
        "#         labels : array or series, default = None\n",
        "#             Array of labels for training the machine learning model to find feature importances. These can be either binary labels\n",
        "#             (if task is 'classification') or continuous targets (if task is 'regression').\n",
        "#             If no labels are provided, then the feature importance based methods are not available.\n",
        "        \n",
        "#     Attributes\n",
        "#     --------\n",
        "    \n",
        "#     ops : dict\n",
        "#         Dictionary of operations run and features identified for removal\n",
        "        \n",
        "#     missing_stats : dataframe\n",
        "#         The fraction of missing values for all features\n",
        "    \n",
        "#     record_missing : dataframe\n",
        "#         The fraction of missing values for features with missing fraction above threshold\n",
        "        \n",
        "#     unique_stats : dataframe\n",
        "#         Number of unique values for all features\n",
        "    \n",
        "#     record_single_unique : dataframe\n",
        "#         Records the features that have a single unique value\n",
        "        \n",
        "#     corr_matrix : dataframe\n",
        "#         All correlations between all features in the data\n",
        "    \n",
        "#     record_collinear : dataframe\n",
        "#         Records the pairs of collinear variables with a correlation coefficient above the threshold\n",
        "        \n",
        "#     feature_importances : dataframe\n",
        "#         All feature importances from the gradient boosting machine\n",
        "    \n",
        "#     record_zero_importance : dataframe\n",
        "#         Records the zero importance features in the data according to the gbm\n",
        "    \n",
        "#     record_low_importance : dataframe\n",
        "#         Records the lowest importance features not needed to reach the threshold of cumulative importance according to the gbm\n",
        "    \n",
        "    \n",
        "#     Notes\n",
        "#     --------\n",
        "    \n",
        "#         - All 5 operations can be run with the `identify_all` method.\n",
        "#         - If using feature importances, one-hot encoding is used for categorical variables which creates new columns\n",
        "    \n",
        "#     \"\"\"\n",
        "    \n",
        "#     def __init__(self, data, labels=None):\n",
        "        \n",
        "#         # Dataset and optional training labels\n",
        "#         self.data = data\n",
        "#         self.labels = labels\n",
        "\n",
        "#         if labels is None:\n",
        "#             print('No labels provided. Feature importance based methods are not available.')\n",
        "        \n",
        "#         self.base_features = list(data.columns)\n",
        "#         self.one_hot_features = None\n",
        "        \n",
        "#         # Dataframes recording information about features to remove\n",
        "#         self.record_missing = None\n",
        "#         self.record_single_unique = None\n",
        "#         self.record_collinear = None\n",
        "#         self.record_zero_importance = None\n",
        "#         self.record_low_importance = None\n",
        "        \n",
        "#         self.missing_stats = None\n",
        "#         self.unique_stats = None\n",
        "#         self.corr_matrix = None\n",
        "#         self.feature_importances = None\n",
        "        \n",
        "#         # Dictionary to hold removal operations\n",
        "#         self.ops = {}\n",
        "        \n",
        "#         self.one_hot_correlated = False\n",
        "        \n",
        "#     def identify_missing(self, missing_threshold):\n",
        "#         \"\"\"Find the features with a fraction of missing values above `missing_threshold`\"\"\"\n",
        "        \n",
        "#         self.missing_threshold = missing_threshold\n",
        "\n",
        "#         # Calculate the fraction of missing in each column \n",
        "#         missing_series = self.data.isnull().sum() / self.data.shape[0]\n",
        "#         self.missing_stats = pd.DataFrame(missing_series).rename(columns = {'index': 'feature', 0: 'missing_fraction'})\n",
        "\n",
        "#         # Sort with highest number of missing values on top\n",
        "#         self.missing_stats = self.missing_stats.sort_values('missing_fraction', ascending = False)\n",
        "\n",
        "#         # Find the columns with a missing percentage above the threshold\n",
        "#         record_missing = pd.DataFrame(missing_series[missing_series > missing_threshold]).reset_index().rename(columns = \n",
        "#                                                                                                                {'index': 'feature', \n",
        "#                                                                                                                 0: 'missing_fraction'})\n",
        "\n",
        "#         to_drop = list(record_missing['feature'])\n",
        "\n",
        "#         self.record_missing = record_missing\n",
        "#         self.ops['missing'] = to_drop\n",
        "        \n",
        "#         print('%d features with greater than %0.2f missing values.\\n' % (len(self.ops['missing']), self.missing_threshold))\n",
        "        \n",
        "#     def identify_single_unique(self):\n",
        "#         \"\"\"Finds features with only a single unique value. NaNs do not count as a unique value. \"\"\"\n",
        "\n",
        "#         # Calculate the unique counts in each column\n",
        "#         unique_counts = self.data.nunique()\n",
        "#         self.unique_stats = pd.DataFrame(unique_counts).rename(columns = {'index': 'feature', 0: 'nunique'})\n",
        "#         self.unique_stats = self.unique_stats.sort_values('nunique', ascending = True)\n",
        "        \n",
        "#         # Find the columns with only one unique count\n",
        "#         record_single_unique = pd.DataFrame(unique_counts[unique_counts == 1]).reset_index().rename(columns = {'index': 'feature', \n",
        "#                                                                                                                 0: 'nunique'})\n",
        "\n",
        "#         to_drop = list(record_single_unique['feature'])\n",
        "    \n",
        "#         self.record_single_unique = record_single_unique\n",
        "#         self.ops['single_unique'] = to_drop\n",
        "        \n",
        "#         print('%d features with a single unique value.\\n' % len(self.ops['single_unique']))\n",
        "    \n",
        "#     def identify_collinear(self, correlation_threshold, one_hot=False):\n",
        "#         \"\"\"\n",
        "#         Finds collinear features based on the correlation coefficient between features. \n",
        "#         For each pair of features with a correlation coefficient greather than `correlation_threshold`,\n",
        "#         only one of the pair is identified for removal. \n",
        "#         Using code adapted from: https://chrisalbon.com/machine_learning/feature_selection/drop_highly_correlated_features/\n",
        "        \n",
        "#         Parameters\n",
        "#         --------\n",
        "#         correlation_threshold : float between 0 and 1\n",
        "#             Value of the Pearson correlation cofficient for identifying correlation features\n",
        "#         one_hot : boolean, default = False\n",
        "#             Whether to one-hot encode the features before calculating the correlation coefficients\n",
        "#         \"\"\"\n",
        "        \n",
        "#         self.correlation_threshold = correlation_threshold\n",
        "#         self.one_hot_correlated = one_hot\n",
        "        \n",
        "#          # Calculate the correlations between every column\n",
        "#         if one_hot:\n",
        "            \n",
        "#             # One hot encoding\n",
        "#             features = pd.get_dummies(self.data)\n",
        "#             self.one_hot_features = [column for column in features.columns if column not in self.base_features]\n",
        "\n",
        "#             # Add one hot encoded data to original data\n",
        "#             self.data_all = pd.concat([features[self.one_hot_features], self.data], axis = 1)\n",
        "            \n",
        "#             corr_matrix = pd.get_dummies(features).corr()\n",
        "\n",
        "#         else:\n",
        "#             corr_matrix = self.data.corr()\n",
        "        \n",
        "#         self.corr_matrix = corr_matrix\n",
        "    \n",
        "#         # Extract the upper triangle of the correlation matrix\n",
        "#         upper = corr_matrix.where(np.triu(np.ones(corr_matrix.shape), k = 1).astype(np.bool))\n",
        "        \n",
        "#         # Select the features with correlations above the threshold\n",
        "#         # Need to use the absolute value\n",
        "#         to_drop = [column for column in upper.columns if any(upper[column].abs() > correlation_threshold)]\n",
        "\n",
        "#         # Dataframe to hold correlated pairs\n",
        "#         record_collinear = pd.DataFrame(columns = ['drop_feature', 'corr_feature', 'corr_value'])\n",
        "\n",
        "#         # Iterate through the columns to drop to record pairs of correlated features\n",
        "#         for column in to_drop:\n",
        "\n",
        "#             # Find the correlated features\n",
        "#             corr_features = list(upper.index[upper[column].abs() > correlation_threshold])\n",
        "\n",
        "#             # Find the correlated values\n",
        "#             corr_values = list(upper[column][upper[column].abs() > correlation_threshold])\n",
        "#             drop_features = [column for _ in range(len(corr_features))]    \n",
        "\n",
        "#             # Record the information (need a temp df for now)\n",
        "#             temp_df = pd.DataFrame.from_dict({'drop_feature': drop_features,\n",
        "#                                              'corr_feature': corr_features,\n",
        "#                                              'corr_value': corr_values})\n",
        "\n",
        "#             # Add to dataframe\n",
        "#             record_collinear = record_collinear.append(temp_df, ignore_index = True)\n",
        "\n",
        "#         self.record_collinear = record_collinear\n",
        "#         self.ops['collinear'] = to_drop\n",
        "        \n",
        "#         print('%d features with a correlation magnitude greater than %0.2f.\\n' % (len(self.ops['collinear']), self.correlation_threshold))\n",
        "\n",
        "#     def identify_zero_importance(self, task, eval_metric=None, \n",
        "#                                  n_iterations=10, early_stopping = True):\n",
        "#         \"\"\"\n",
        "        \n",
        "#         Identify the features with zero importance according to a gradient boosting machine.\n",
        "#         The gbm can be trained with early stopping using a validation set to prevent overfitting. \n",
        "#         The feature importances are averaged over `n_iterations` to reduce variance. \n",
        "        \n",
        "#         Uses the LightGBM implementation (http://lightgbm.readthedocs.io/en/latest/index.html)\n",
        "#         Parameters \n",
        "#         --------\n",
        "#         eval_metric : string\n",
        "#             Evaluation metric to use for the gradient boosting machine for early stopping. Must be\n",
        "#             provided if `early_stopping` is True\n",
        "#         task : string\n",
        "#             The machine learning task, either 'classification' or 'regression'\n",
        "#         n_iterations : int, default = 10\n",
        "#             Number of iterations to train the gradient boosting machine\n",
        "            \n",
        "#         early_stopping : boolean, default = True\n",
        "#             Whether or not to use early stopping with a validation set when training\n",
        "        \n",
        "        \n",
        "#         Notes\n",
        "#         --------\n",
        "        \n",
        "#         - Features are one-hot encoded to handle the categorical variables before training.\n",
        "#         - The gbm is not optimized for any particular task and might need some hyperparameter tuning\n",
        "#         - Feature importances, including zero importance features, can change across runs\n",
        "#         \"\"\"\n",
        "\n",
        "#         if early_stopping and eval_metric is None:\n",
        "#             raise ValueError(\"\"\"eval metric must be provided with early stopping. Examples include \"auc\" for classification or\n",
        "#                              \"l2\" for regression.\"\"\")\n",
        "            \n",
        "#         if self.labels is None:\n",
        "#             raise ValueError(\"No training labels provided.\")\n",
        "        \n",
        "#         # One hot encoding\n",
        "#         features = pd.get_dummies(self.data)\n",
        "#         self.one_hot_features = [column for column in features.columns if column not in self.base_features]\n",
        "\n",
        "#         # Add one hot encoded data to original data\n",
        "#         self.data_all = pd.concat([features[self.one_hot_features], self.data], axis = 1)\n",
        "\n",
        "#         # Extract feature names\n",
        "#         feature_names = list(features.columns)\n",
        "\n",
        "#         # Convert to np array\n",
        "#         features = np.array(features)\n",
        "#         labels = np.array(self.labels).reshape((-1, ))\n",
        "\n",
        "#         # Empty array for feature importances\n",
        "#         feature_importance_values = np.zeros(len(feature_names))\n",
        "        \n",
        "#         print('Training Gradient Boosting Model\\n')\n",
        "        \n",
        "#         # Iterate through each fold\n",
        "#         for _ in range(n_iterations):\n",
        "\n",
        "#             if task == 'classification':\n",
        "#                 model = lgb.LGBMClassifier(n_estimators=1000, learning_rate = 0.05, verbose = -1)\n",
        "\n",
        "#             elif task == 'regression':\n",
        "#                 model = lgb.LGBMRegressor(n_estimators=1000, learning_rate = 0.05, verbose = -1)\n",
        "\n",
        "#             else:\n",
        "#                 raise ValueError('Task must be either \"classification\" or \"regression\"')\n",
        "                \n",
        "#             # If training using early stopping need a validation set\n",
        "#             if early_stopping:\n",
        "                \n",
        "#                 train_features, valid_features, train_labels, valid_labels = train_test_split(features, labels, test_size = 0.15, stratify=labels)\n",
        "\n",
        "#                 # Train the model with early stopping\n",
        "#                 model.fit(train_features, train_labels, eval_metric = eval_metric,\n",
        "#                           eval_set = [(valid_features, valid_labels)],\n",
        "#                           early_stopping_rounds = 100, verbose = -1)\n",
        "                \n",
        "#                 # Clean up memory\n",
        "#                 gc.enable()\n",
        "#                 del train_features, train_labels, valid_features, valid_labels\n",
        "#                 gc.collect()\n",
        "                \n",
        "#             else:\n",
        "#                 model.fit(features, labels)\n",
        "\n",
        "#             # Record the feature importances\n",
        "#             feature_importance_values += model.feature_importances_ / n_iterations\n",
        "\n",
        "#         feature_importances = pd.DataFrame({'feature': feature_names, 'importance': feature_importance_values})\n",
        "\n",
        "#         # Sort features according to importance\n",
        "#         feature_importances = feature_importances.sort_values('importance', ascending = False).reset_index(drop = True)\n",
        "\n",
        "#         # Normalize the feature importances to add up to one\n",
        "#         feature_importances['normalized_importance'] = feature_importances['importance'] / feature_importances['importance'].sum()\n",
        "#         feature_importances['cumulative_importance'] = np.cumsum(feature_importances['normalized_importance'])\n",
        "\n",
        "#         # Extract the features with zero importance\n",
        "#         record_zero_importance = feature_importances[feature_importances['importance'] == 0.0]\n",
        "        \n",
        "#         to_drop = list(record_zero_importance['feature'])\n",
        "\n",
        "#         self.feature_importances = feature_importances\n",
        "#         self.record_zero_importance = record_zero_importance\n",
        "#         self.ops['zero_importance'] = to_drop\n",
        "        \n",
        "#         print('\\n%d features with zero importance after one-hot encoding.\\n' % len(self.ops['zero_importance']))\n",
        "    \n",
        "#     def identify_low_importance(self, cumulative_importance):\n",
        "#         \"\"\"\n",
        "#         Finds the lowest importance features not needed to account for `cumulative_importance` fraction\n",
        "#         of the total feature importance from the gradient boosting machine. As an example, if cumulative\n",
        "#         importance is set to 0.95, this will retain only the most important features needed to \n",
        "#         reach 95% of the total feature importance. The identified features are those not needed.\n",
        "#         Parameters\n",
        "#         --------\n",
        "#         cumulative_importance : float between 0 and 1\n",
        "#             The fraction of cumulative importance to account for \n",
        "#         \"\"\"\n",
        "\n",
        "#         self.cumulative_importance = cumulative_importance\n",
        "        \n",
        "#         # The feature importances need to be calculated before running\n",
        "#         if self.feature_importances is None:\n",
        "#             raise NotImplementedError(\"\"\"Feature importances have not yet been determined. \n",
        "#                                          Call the `identify_zero_importance` method first.\"\"\")\n",
        "            \n",
        "#         # Make sure most important features are on top\n",
        "#         self.feature_importances = self.feature_importances.sort_values('cumulative_importance')\n",
        "\n",
        "#         # Identify the features not needed to reach the cumulative_importance\n",
        "#         record_low_importance = self.feature_importances[self.feature_importances['cumulative_importance'] > cumulative_importance]\n",
        "\n",
        "#         to_drop = list(record_low_importance['feature'])\n",
        "\n",
        "#         self.record_low_importance = record_low_importance\n",
        "#         self.ops['low_importance'] = to_drop\n",
        "    \n",
        "#         print('%d features required for cumulative importance of %0.2f after one hot encoding.' % (len(self.feature_importances) -\n",
        "#                                                                             len(self.record_low_importance), self.cumulative_importance))\n",
        "#         print('%d features do not contribute to cumulative importance of %0.2f.\\n' % (len(self.ops['low_importance']),\n",
        "#                                                                                                self.cumulative_importance))\n",
        "        \n",
        "#     def identify_all(self, selection_params):\n",
        "#         \"\"\"\n",
        "#         Use all five of the methods to identify features to remove.\n",
        "        \n",
        "#         Parameters\n",
        "#         --------\n",
        "            \n",
        "#         selection_params : dict\n",
        "#            Parameters to use in the five feature selection methhods.\n",
        "#            Params must contain the keys ['missing_threshold', 'correlation_threshold', 'eval_metric', 'task', 'cumulative_importance']\n",
        "        \n",
        "#         \"\"\"\n",
        "        \n",
        "#         # Check for all required parameters\n",
        "#         for param in ['missing_threshold', 'correlation_threshold', 'eval_metric', 'task', 'cumulative_importance']:\n",
        "#             if param not in selection_params.keys():\n",
        "#                 raise ValueError('%s is a required parameter for this method.' % param)\n",
        "        \n",
        "#         # Implement each of the five methods\n",
        "#         self.identify_missing(selection_params['missing_threshold'])\n",
        "#         self.identify_single_unique()\n",
        "#         self.identify_collinear(selection_params['correlation_threshold'])\n",
        "#         self.identify_zero_importance(task = selection_params['task'], eval_metric = selection_params['eval_metric'])\n",
        "#         self.identify_low_importance(selection_params['cumulative_importance'])\n",
        "        \n",
        "#         # Find the number of features identified to drop\n",
        "#         self.all_identified = set(list(chain(*list(self.ops.values()))))\n",
        "#         self.n_identified = len(self.all_identified)\n",
        "        \n",
        "#         print('%d total features out of %d identified for removal after one-hot encoding.\\n' % (self.n_identified, \n",
        "#                                                                                                   self.data_all.shape[1]))\n",
        "        \n",
        "#     def check_removal(self, keep_one_hot=True):\n",
        "        \n",
        "#         \"\"\"Check the identified features before removal. Returns a list of the unique features identified.\"\"\"\n",
        "        \n",
        "#         self.all_identified = set(list(chain(*list(self.ops.values()))))\n",
        "#         print('Total of %d features identified for removal' % len(self.all_identified))\n",
        "        \n",
        "#         if not keep_one_hot:\n",
        "#             if self.one_hot_features is None:\n",
        "#                 print('Data has not been one-hot encoded')\n",
        "#             else:\n",
        "#                 one_hot_to_remove = [x for x in self.one_hot_features if x not in self.all_identified]\n",
        "#                 print('%d additional one-hot features can be removed' % len(one_hot_to_remove))\n",
        "        \n",
        "#         return list(self.all_identified)\n",
        "        \n",
        "    \n",
        "#     def remove(self, methods, keep_one_hot = True):\n",
        "#         \"\"\"\n",
        "#         Remove the features from the data according to the specified methods.\n",
        "        \n",
        "#         Parameters\n",
        "#         --------\n",
        "#             methods : 'all' or list of methods\n",
        "#                 If methods == 'all', any methods that have identified features will be used\n",
        "#                 Otherwise, only the specified methods will be used.\n",
        "#                 Can be one of ['missing', 'single_unique', 'collinear', 'zero_importance', 'low_importance']\n",
        "#             keep_one_hot : boolean, default = True\n",
        "#                 Whether or not to keep one-hot encoded features\n",
        "                \n",
        "#         Return\n",
        "#         --------\n",
        "#             data : dataframe\n",
        "#                 Dataframe with identified features removed\n",
        "                \n",
        "        \n",
        "#         Notes \n",
        "#         --------\n",
        "#             - If feature importances are used, the one-hot encoded columns will be added to the data (and then may be removed)\n",
        "#             - Check the features that will be removed before transforming data!\n",
        "        \n",
        "#         \"\"\"\n",
        "        \n",
        "        \n",
        "#         features_to_drop = []\n",
        "      \n",
        "#         if methods == 'all':\n",
        "            \n",
        "#             # Need to use one-hot encoded data as well\n",
        "#             data = self.data_all\n",
        "                                          \n",
        "#             print('{} methods have been run\\n'.format(list(self.ops.keys())))\n",
        "            \n",
        "#             # Find the unique features to drop\n",
        "#             features_to_drop = set(list(chain(*list(self.ops.values()))))\n",
        "            \n",
        "#         else:\n",
        "#             # Need to use one-hot encoded data as well\n",
        "#             if 'zero_importance' in methods or 'low_importance' in methods or self.one_hot_correlated:\n",
        "#                 data = self.data_all\n",
        "                \n",
        "#             else:\n",
        "#                 data = self.data\n",
        "                \n",
        "#             # Iterate through the specified methods\n",
        "#             for method in methods:\n",
        "                \n",
        "#                 # Check to make sure the method has been run\n",
        "#                 if method not in self.ops.keys():\n",
        "#                     raise NotImplementedError('%s method has not been run' % method)\n",
        "                    \n",
        "#                 # Append the features identified for removal\n",
        "#                 else:\n",
        "#                     features_to_drop.append(self.ops[method])\n",
        "        \n",
        "#             # Find the unique features to drop\n",
        "#             features_to_drop = set(list(chain(*features_to_drop)))\n",
        "            \n",
        "#         features_to_drop = list(features_to_drop)\n",
        "            \n",
        "#         if not keep_one_hot:\n",
        "            \n",
        "#             if self.one_hot_features is None:\n",
        "#                 print('Data has not been one-hot encoded')\n",
        "#             else:\n",
        "                             \n",
        "#                 features_to_drop = list(set(features_to_drop) | set(self.one_hot_features))\n",
        "       \n",
        "#         # Remove the features and return the data\n",
        "#         data = data.drop(columns = features_to_drop)\n",
        "#         self.removed_features = features_to_drop\n",
        "        \n",
        "#         if not keep_one_hot:\n",
        "#         \tprint('Removed %d features including one-hot features.' % len(features_to_drop))\n",
        "#         else:\n",
        "#         \tprint('Removed %d features.' % len(features_to_drop))\n",
        "        \n",
        "#         return data\n",
        "    \n",
        "#     def plot_missing(self):\n",
        "#         \"\"\"Histogram of missing fraction in each feature\"\"\"\n",
        "#         if self.record_missing is None:\n",
        "#             raise NotImplementedError(\"Missing values have not been calculated. Run `identify_missing`\")\n",
        "        \n",
        "#         self.reset_plot()\n",
        "        \n",
        "#         # Histogram of missing values\n",
        "#         plt.style.use('seaborn-white')\n",
        "#         plt.figure(figsize = (7, 5))\n",
        "#         plt.hist(self.missing_stats['missing_fraction'], bins = np.linspace(0, 1, 11), edgecolor = 'k', color = 'red', linewidth = 1.5)\n",
        "#         plt.xticks(np.linspace(0, 1, 11));\n",
        "#         plt.xlabel('Missing Fraction', size = 14); plt.ylabel('Count of Features', size = 14); \n",
        "#         plt.title(\"Fraction of Missing Values Histogram\", size = 16);\n",
        "        \n",
        "    \n",
        "#     def plot_unique(self):\n",
        "#         \"\"\"Histogram of number of unique values in each feature\"\"\"\n",
        "#         if self.record_single_unique is None:\n",
        "#             raise NotImplementedError('Unique values have not been calculated. Run `identify_single_unique`')\n",
        "        \n",
        "#         self.reset_plot()\n",
        "\n",
        "#         # Histogram of number of unique values\n",
        "#         self.unique_stats.plot.hist(edgecolor = 'k', figsize = (7, 5))\n",
        "#         plt.ylabel('Frequency', size = 14); plt.xlabel('Unique Values', size = 14); \n",
        "#         plt.title('Number of Unique Values Histogram', size = 16);\n",
        "        \n",
        "    \n",
        "#     def plot_collinear(self, plot_all = False):\n",
        "#         \"\"\"\n",
        "#         Heatmap of the correlation values. If plot_all = True plots all the correlations otherwise\n",
        "#         plots only those features that have a correlation above the threshold\n",
        "        \n",
        "#         Notes\n",
        "#         --------\n",
        "#             - Not all of the plotted correlations are above the threshold because this plots\n",
        "#             all the variables that have been idenfitied as having even one correlation above the threshold\n",
        "#             - The features on the x-axis are those that will be removed. The features on the y-axis\n",
        "#             are the correlated features with those on the x-axis\n",
        "        \n",
        "#         Code adapted from https://seaborn.pydata.org/examples/many_pairwise_correlations.html\n",
        "#         \"\"\"\n",
        "        \n",
        "#         if self.record_collinear is None:\n",
        "#             raise NotImplementedError('Collinear features have not been idenfitied. Run `identify_collinear`.')\n",
        "        \n",
        "#         if plot_all:\n",
        "#         \tcorr_matrix_plot = self.corr_matrix\n",
        "#         \ttitle = 'All Correlations'\n",
        "        \n",
        "#         else:\n",
        "# \t        # Identify the correlations that were above the threshold\n",
        "# \t        # columns (x-axis) are features to drop and rows (y_axis) are correlated pairs\n",
        "# \t        corr_matrix_plot = self.corr_matrix.loc[list(set(self.record_collinear['corr_feature'])), \n",
        "# \t                                                list(set(self.record_collinear['drop_feature']))]\n",
        "\n",
        "# \t        title = \"Correlations Above Threshold\"\n",
        "\n",
        "       \n",
        "#         f, ax = plt.subplots(figsize=(10, 8))\n",
        "        \n",
        "#         # Diverging colormap\n",
        "#         cmap = sns.diverging_palette(220, 10, as_cmap=True)\n",
        "\n",
        "#         # Draw the heatmap with a color bar\n",
        "#         sns.heatmap(corr_matrix_plot, cmap=cmap, center=0,\n",
        "#                     linewidths=.25, cbar_kws={\"shrink\": 0.6})\n",
        "\n",
        "#         # Set the ylabels \n",
        "#         ax.set_yticks([x + 0.5 for x in list(range(corr_matrix_plot.shape[0]))])\n",
        "#         ax.set_yticklabels(list(corr_matrix_plot.index), size = int(160 / corr_matrix_plot.shape[0]));\n",
        "\n",
        "#         # Set the xlabels \n",
        "#         ax.set_xticks([x + 0.5 for x in list(range(corr_matrix_plot.shape[1]))])\n",
        "#         ax.set_xticklabels(list(corr_matrix_plot.columns), size = int(160 / corr_matrix_plot.shape[1]));\n",
        "#         plt.title(title, size = 14)\n",
        "        \n",
        "#     def plot_feature_importances(self, plot_n = 15, threshold = None):\n",
        "#         \"\"\"\n",
        "#         Plots `plot_n` most important features and the cumulative importance of features.\n",
        "#         If `threshold` is provided, prints the number of features needed to reach `threshold` cumulative importance.\n",
        "#         Parameters\n",
        "#         --------\n",
        "        \n",
        "#         plot_n : int, default = 15\n",
        "#             Number of most important features to plot. Defaults to 15 or the maximum number of features whichever is smaller\n",
        "        \n",
        "#         threshold : float, between 0 and 1 default = None\n",
        "#             Threshold for printing information about cumulative importances\n",
        "#         \"\"\"\n",
        "        \n",
        "#         if self.record_zero_importance is None:\n",
        "#             raise NotImplementedError('Feature importances have not been determined. Run `idenfity_zero_importance`')\n",
        "            \n",
        "#         # Need to adjust number of features if greater than the features in the data\n",
        "#         if plot_n > self.feature_importances.shape[0]:\n",
        "#             plot_n = self.feature_importances.shape[0] - 1\n",
        "\n",
        "#         self.reset_plot()\n",
        "        \n",
        "#         # Make a horizontal bar chart of feature importances\n",
        "#         plt.figure(figsize = (10, 6))\n",
        "#         ax = plt.subplot()\n",
        "\n",
        "#         # Need to reverse the index to plot most important on top\n",
        "#         # There might be a more efficient method to accomplish this\n",
        "#         ax.barh(list(reversed(list(self.feature_importances.index[:plot_n]))), \n",
        "#                 self.feature_importances['normalized_importance'][:plot_n], \n",
        "#                 align = 'center', edgecolor = 'k')\n",
        "\n",
        "#         # Set the yticks and labels\n",
        "#         ax.set_yticks(list(reversed(list(self.feature_importances.index[:plot_n]))))\n",
        "#         ax.set_yticklabels(self.feature_importances['feature'][:plot_n], size = 12)\n",
        "\n",
        "#         # Plot labeling\n",
        "#         plt.xlabel('Normalized Importance', size = 16); plt.title('Feature Importances', size = 18)\n",
        "#         plt.show()\n",
        "\n",
        "#         # Cumulative importance plot\n",
        "#         plt.figure(figsize = (6, 4))\n",
        "#         plt.plot(list(range(1, len(self.feature_importances) + 1)), self.feature_importances['cumulative_importance'], 'r-')\n",
        "#         plt.xlabel('Number of Features', size = 14); plt.ylabel('Cumulative Importance', size = 14); \n",
        "#         plt.title('Cumulative Feature Importance', size = 16);\n",
        "\n",
        "#         if threshold:\n",
        "\n",
        "#             # Index of minimum number of features needed for cumulative importance threshold\n",
        "#             # np.where returns the index so need to add 1 to have correct number\n",
        "#             importance_index = np.min(np.where(self.feature_importances['cumulative_importance'] > threshold))\n",
        "#             plt.vlines(x = importance_index + 1, ymin = 0, ymax = 1, linestyles='--', colors = 'blue')\n",
        "#             plt.show();\n",
        "\n",
        "#             print('%d features required for %0.2f of cumulative importance' % (importance_index + 1, threshold))\n",
        "\n",
        "#     def reset_plot(self):\n",
        "#         plt.rcParams = plt.rcParamsDefault"
      ],
      "execution_count": 0,
      "outputs": []
    },
    {
      "cell_type": "code",
      "metadata": {
        "id": "IZXiTJqpm0DJ",
        "colab_type": "code",
        "colab": {}
      },
      "source": [
        "# # fs = FeatureSelector()\n",
        "# # fs.identify_collinear(X, 0.99)\n",
        "# # fs.plot_collinear()\n",
        "# # from feature_selector import FeatureSelector\n",
        "# fs = FeatureSelector(data = X, labels = y)\n",
        "# # fs.identify_missing(missing_threshold=0.6)\n",
        "# # fs.identify_collinear(correlation_threshold=0.99)\n",
        "# # fs.plot_collinear()"
      ],
      "execution_count": 0,
      "outputs": []
    },
    {
      "cell_type": "code",
      "metadata": {
        "id": "jkXPY4hixMOk",
        "colab_type": "code",
        "colab": {}
      },
      "source": [
        "# fs.identify_zero_importance(task = 'classification', eval_metric = 'auc', \n",
        "#                             n_iterations = 10, early_stopping = True)"
      ],
      "execution_count": 0,
      "outputs": []
    },
    {
      "cell_type": "code",
      "metadata": {
        "id": "9vF08XXux_rP",
        "colab_type": "code",
        "colab": {}
      },
      "source": [
        "# fs.plot_feature_importances(threshold = 0.99)"
      ],
      "execution_count": 0,
      "outputs": []
    },
    {
      "cell_type": "code",
      "metadata": {
        "id": "6sK1m0nRzMka",
        "colab_type": "code",
        "colab": {}
      },
      "source": [
        "# fs.identify_low_importance(cumulative_importance = 0.99)"
      ],
      "execution_count": 0,
      "outputs": []
    },
    {
      "cell_type": "code",
      "metadata": {
        "id": "U0TXQ1WEzrxN",
        "colab_type": "code",
        "colab": {}
      },
      "source": [
        "# train_removed = fs.remove(methods = 'all')\n",
        "# train_removed_all = fs.remove(methods = 'all', keep_one_hot=False)\n",
        "# train_removed_all_once = fs.remove(methods = 'all', keep_one_hot = True)"
      ],
      "execution_count": 0,
      "outputs": []
    },
    {
      "cell_type": "code",
      "metadata": {
        "id": "9TsgLOAg1M7z",
        "colab_type": "code",
        "outputId": "0bcb09c1-ca51-4b41-8613-b353da1678ac",
        "colab": {
          "base_uri": "https://localhost:8080/",
          "height": 71
        }
      },
      "source": [
        "# pandas and numpy for data manipulation\n",
        "import pandas as pd\n",
        "import numpy as np\n",
        "train = pd.read_csv('train_data.csv',index_col=0)\n",
        "train = train.iloc[:-2].drop(['X1','PRICE_VAR','year'],axis=1)\n",
        "train = pd.get_dummies(train, columns=['Sector'])\n",
        "cols = train.select_dtypes(exclude=['float']).columns\n",
        "train[cols] = train[cols].apply(pd.to_numeric, downcast='float', errors='coerce')"
      ],
      "execution_count": 4,
      "outputs": [
        {
          "output_type": "stream",
          "text": [
            "/usr/local/lib/python3.6/dist-packages/IPython/core/interactiveshell.py:2718: DtypeWarning: Columns (2,3,4,5,6,7,8,9,10,11,12,13,14,15,16,17,18,19,20,21,22,23,24,25,26,27,28,29,30,31,32,33,34,35,36,37,38,39,40,41,42,43,44,45,46,47,48,49,50,51,52,53,54,55,56,57,58,59,60,61,62,63,64,65,66,67,68,69,70,71,72,73,74,75,76,77,78,79,80,81,82,83,84,85,86,87,88,89,90,91,92,93,94,95,96,97,98,99,100,101,102,103,104,105,106,107,108,109,110,111,112,113,114,115,116,117,118,119,120,121,122,123,124,125,126,127,128,129,130,131,132,133,134,135,136,137,138,139,140,141,142,143,144,145,146,147,148,149,150,151,152,153,154,155,156,157,158,159,160,161,162,163,164,165,166,167,168,169,170,171,172,173,174,175,176,177,178,179,180,181,182,183,184,185,186,187,188,189,190,191,192,193,194,195,196,197,198,199,200,201,202,203,204,205,206,207,208,209,210,211,212,213,214,215,216,217,218,219,220,221,222,224,225,226) have mixed types.Specify dtype option on import or set low_memory=False.\n",
            "  interactivity=interactivity, compiler=compiler, result=result)\n"
          ],
          "name": "stderr"
        }
      ]
    },
    {
      "cell_type": "code",
      "metadata": {
        "id": "cVQAsREoj7-M",
        "colab_type": "code",
        "colab": {
          "base_uri": "https://localhost:8080/",
          "height": 54
        },
        "outputId": "1218dec6-9d96-4e37-c83d-8717d74bd5dd"
      },
      "source": [
        "from google.colab import drive\n",
        "drive.mount('/content/drive')"
      ],
      "execution_count": 6,
      "outputs": [
        {
          "output_type": "stream",
          "text": [
            "Drive already mounted at /content/drive; to attempt to forcibly remount, call drive.mount(\"/content/drive\", force_remount=True).\n"
          ],
          "name": "stdout"
        }
      ]
    },
    {
      "cell_type": "code",
      "metadata": {
        "id": "1UwN-pnRf0Df",
        "colab_type": "code",
        "colab": {}
      },
      "source": [
        "test = pd.read_csv('test_data.csv',index_col=0)\n",
        "test = test.iloc[:-2].drop(['X1','PRICE_VAR','year'],axis=1)\n",
        "test = pd.get_dummies(test, columns=['Sector'])\n",
        "cols1 = test.select_dtypes(exclude=['float']).columns\n",
        "test[cols1] = test[cols1].apply(pd.to_numeric, downcast='float', errors='coerce')\n",
        "# Match the columns in the dataframes\n",
        "train, test = train.align(test, join = 'inner', axis = 1)"
      ],
      "execution_count": 0,
      "outputs": []
    },
    {
      "cell_type": "code",
      "metadata": {
        "id": "C_KDcxEahj7P",
        "colab_type": "code",
        "outputId": "850995d6-10e8-46f0-80f6-864ff847e7f3",
        "colab": {
          "base_uri": "https://localhost:8080/",
          "height": 51
        }
      },
      "source": [
        "print('Training shape: ', train.shape)\n",
        "print('Testing shape: ', test.shape)"
      ],
      "execution_count": 9,
      "outputs": [
        {
          "output_type": "stream",
          "text": [
            "Training shape:  (17688, 233)\n",
            "Testing shape:  (4390, 233)\n"
          ],
          "name": "stdout"
        }
      ]
    },
    {
      "cell_type": "code",
      "metadata": {
        "id": "vHacdZy3kr_q",
        "colab_type": "code",
        "colab": {}
      },
      "source": [
        "# train, test = train.align(test, join = 'inner', axis = 1)\n",
        "\n",
        "# print('Training set full shape: ', train.shape)\n",
        "# print('Testing set full shape: ' , test.shape)\n",
        "train = (train\n",
        "     .pipe(lambda df: df.loc[:, df.dtypes.values != np.dtype('O')])  # drop str columns\n",
        "     .pipe(lambda df: df.loc[:, (df.isnull().sum(axis='rows') < 8000).where(lambda v: v).dropna().index.values])  # drop columns with greater than 10000 null values\n",
        "     .dropna()\n",
        ")\n",
        "# print(trainp)\n",
        "y=train['Class']\n",
        "X=train.drop(['Class'],axis=1)\n",
        "# X=train.fillna(0)\n",
        "# y=y.fillna(0)"
      ],
      "execution_count": 0,
      "outputs": []
    },
    {
      "cell_type": "code",
      "metadata": {
        "id": "A7SoXctqHaMW",
        "colab_type": "code",
        "colab": {}
      },
      "source": [
        "test = (test\n",
        "     .pipe(lambda df: df.loc[:, df.dtypes.values != np.dtype('O')])  # drop str columns\n",
        "     .pipe(lambda df: df.loc[:, (df.isnull().sum(axis='rows') < 8000).where(lambda v: v).dropna().index.values])  # drop columns with greater than 10000 null values\n",
        "     .dropna()\n",
        ")\n",
        "train, test = train.align(test, join = 'inner', axis = 1)"
      ],
      "execution_count": 0,
      "outputs": []
    },
    {
      "cell_type": "code",
      "metadata": {
        "id": "ak8HRHUzf73Q",
        "colab_type": "code",
        "outputId": "901bb411-29cd-4151-e497-151c5e3f8413",
        "colab": {
          "base_uri": "https://localhost:8080/",
          "height": 68
        }
      },
      "source": [
        "# Threshold for removing correlated variables\n",
        "threshold = 0.9\n",
        "\n",
        "# Absolute value correlation matrix\n",
        "corr_matrix = X.corr().abs()\n",
        "# Upper triangle of correlations\n",
        "upper = corr_matrix.where(np.triu(np.ones(corr_matrix.shape), k=1).astype(np.bool))\n",
        "\n",
        "# Select columns with correlations above threshold\n",
        "to_drop = [column for column in upper.columns if any(upper[column] > threshold)]\n",
        "\n",
        "print('There are %d columns to remove.' % (len(to_drop)))\n",
        "\n",
        "X = X.drop(columns = to_drop)\n",
        "test = test.drop(columns = to_drop)\n",
        "\n",
        "print('Training shape: ', X.shape)\n",
        "print('Testing shape: ', test.shape)"
      ],
      "execution_count": 12,
      "outputs": [
        {
          "output_type": "stream",
          "text": [
            "There are 69 columns to remove.\n",
            "Training shape:  (17685, 163)\n",
            "Testing shape:  (4390, 164)\n"
          ],
          "name": "stdout"
        }
      ]
    },
    {
      "cell_type": "code",
      "metadata": {
        "id": "TYYtLErhv-GC",
        "colab_type": "code",
        "colab": {}
      },
      "source": [
        "# modeling \n",
        "import lightgbm as lgb\n",
        "# Initialize an empty array to hold feature importances\n",
        "feature_importances = np.zeros(X.shape[1])\n",
        "\n",
        "# Create the model with several hyperparameters\n",
        "model = lgb.LGBMClassifier(objective='binary', boosting_type = 'goss', n_estimators = 10000, class_weight = 'balanced')"
      ],
      "execution_count": 0,
      "outputs": []
    },
    {
      "cell_type": "code",
      "metadata": {
        "id": "5yf1rDFq0Eg5",
        "colab_type": "code",
        "outputId": "83f73269-030b-46c6-9b6e-d6a9f8370c1c",
        "colab": {
          "base_uri": "https://localhost:8080/",
          "height": 119
        }
      },
      "source": [
        "# utilities\n",
        "from sklearn.model_selection import train_test_split\n",
        "# Fit the model twice to avoid overfitting\n",
        "for i in range(2):\n",
        "    \n",
        "    # Split into training and validation set\n",
        "    train_features, valid_features, train_y, valid_y = train_test_split(X, y, test_size = 0.25, random_state = i)\n",
        "    \n",
        "    # Train using early stopping\n",
        "    model.fit(train_features, train_y, early_stopping_rounds=100, eval_set = [(valid_features, valid_y)], \n",
        "              eval_metric = 'auc', verbose = 200)\n",
        "    \n",
        "    # Record the feature importances\n",
        "    feature_importances += model.feature_importances_"
      ],
      "execution_count": 14,
      "outputs": [
        {
          "output_type": "stream",
          "text": [
            "Training until validation scores don't improve for 100 rounds.\n",
            "Early stopping, best iteration is:\n",
            "[9]\tvalid_0's auc: 0.646039\tvalid_0's binary_logloss: 0.663267\n",
            "Training until validation scores don't improve for 100 rounds.\n",
            "Early stopping, best iteration is:\n",
            "[11]\tvalid_0's auc: 0.6596\tvalid_0's binary_logloss: 0.659342\n"
          ],
          "name": "stdout"
        }
      ]
    },
    {
      "cell_type": "code",
      "metadata": {
        "id": "JR7keZl-1B80",
        "colab_type": "code",
        "colab": {
          "base_uri": "https://localhost:8080/",
          "height": 204
        },
        "outputId": "908eda88-1de8-4e93-b51a-b30d55493a7d"
      },
      "source": [
        "# Make sure to average feature importances! \n",
        "feature_importances = feature_importances / 2\n",
        "feature_importances = pd.DataFrame({'feature': list(X.columns), 'importance': feature_importances}).sort_values('importance', ascending = False)\n",
        "\n",
        "feature_importances.head()"
      ],
      "execution_count": 15,
      "outputs": [
        {
          "output_type": "execute_result",
          "data": {
            "text/html": [
              "<div>\n",
              "<style scoped>\n",
              "    .dataframe tbody tr th:only-of-type {\n",
              "        vertical-align: middle;\n",
              "    }\n",
              "\n",
              "    .dataframe tbody tr th {\n",
              "        vertical-align: top;\n",
              "    }\n",
              "\n",
              "    .dataframe thead th {\n",
              "        text-align: right;\n",
              "    }\n",
              "</style>\n",
              "<table border=\"1\" class=\"dataframe\">\n",
              "  <thead>\n",
              "    <tr style=\"text-align: right;\">\n",
              "      <th></th>\n",
              "      <th>feature</th>\n",
              "      <th>importance</th>\n",
              "    </tr>\n",
              "  </thead>\n",
              "  <tbody>\n",
              "    <tr>\n",
              "      <th>50</th>\n",
              "      <td>Effect_of_forex_changes_on_cash</td>\n",
              "      <td>13.5</td>\n",
              "    </tr>\n",
              "    <tr>\n",
              "      <th>1</th>\n",
              "      <td>Revenue_Growth</td>\n",
              "      <td>12.0</td>\n",
              "    </tr>\n",
              "    <tr>\n",
              "      <th>148</th>\n",
              "      <td>Inventory_Growth</td>\n",
              "      <td>9.0</td>\n",
              "    </tr>\n",
              "    <tr>\n",
              "      <th>15</th>\n",
              "      <td>Weighted_Average_Shs_Out</td>\n",
              "      <td>7.5</td>\n",
              "    </tr>\n",
              "    <tr>\n",
              "      <th>100</th>\n",
              "      <td>Net_Income_per_Share</td>\n",
              "      <td>6.5</td>\n",
              "    </tr>\n",
              "  </tbody>\n",
              "</table>\n",
              "</div>"
            ],
            "text/plain": [
              "                             feature  importance\n",
              "50   Effect_of_forex_changes_on_cash        13.5\n",
              "1                     Revenue_Growth        12.0\n",
              "148                 Inventory_Growth         9.0\n",
              "15          Weighted_Average_Shs_Out         7.5\n",
              "100             Net_Income_per_Share         6.5"
            ]
          },
          "metadata": {
            "tags": []
          },
          "execution_count": 15
        }
      ]
    },
    {
      "cell_type": "code",
      "metadata": {
        "id": "4c5BR6QX2Uzw",
        "colab_type": "code",
        "outputId": "3b8ff759-b055-4585-dacb-269658ed5bac",
        "colab": {
          "base_uri": "https://localhost:8080/",
          "height": 221
        }
      },
      "source": [
        "# Find the features with zero importance\n",
        "zero_features = list(feature_importances[feature_importances['importance'] == 0.0]['feature'])\n",
        "print('There are %d features with 0.0 importance' % len(zero_features))\n",
        "feature_importances.tail()"
      ],
      "execution_count": 16,
      "outputs": [
        {
          "output_type": "stream",
          "text": [
            "There are 22 features with 0.0 importance\n"
          ],
          "name": "stdout"
        },
        {
          "output_type": "execute_result",
          "data": {
            "text/html": [
              "<div>\n",
              "<style scoped>\n",
              "    .dataframe tbody tr th:only-of-type {\n",
              "        vertical-align: middle;\n",
              "    }\n",
              "\n",
              "    .dataframe tbody tr th {\n",
              "        vertical-align: top;\n",
              "    }\n",
              "\n",
              "    .dataframe thead th {\n",
              "        text-align: right;\n",
              "    }\n",
              "</style>\n",
              "<table border=\"1\" class=\"dataframe\">\n",
              "  <thead>\n",
              "    <tr style=\"text-align: right;\">\n",
              "      <th></th>\n",
              "      <th>feature</th>\n",
              "      <th>importance</th>\n",
              "    </tr>\n",
              "  </thead>\n",
              "  <tbody>\n",
              "    <tr>\n",
              "      <th>111</th>\n",
              "      <td>Net_Debt_to_EBITDA</td>\n",
              "      <td>0.0</td>\n",
              "    </tr>\n",
              "    <tr>\n",
              "      <th>21</th>\n",
              "      <td>Short-term_investments</td>\n",
              "      <td>0.0</td>\n",
              "    </tr>\n",
              "    <tr>\n",
              "      <th>134</th>\n",
              "      <td>3Y_Revenue_Growth_(per_Share)</td>\n",
              "      <td>0.0</td>\n",
              "    </tr>\n",
              "    <tr>\n",
              "      <th>44</th>\n",
              "      <td>Investment_purchases_and_sales</td>\n",
              "      <td>0.0</td>\n",
              "    </tr>\n",
              "    <tr>\n",
              "      <th>81</th>\n",
              "      <td>cashConversionCycle</td>\n",
              "      <td>0.0</td>\n",
              "    </tr>\n",
              "  </tbody>\n",
              "</table>\n",
              "</div>"
            ],
            "text/plain": [
              "                            feature  importance\n",
              "111              Net_Debt_to_EBITDA         0.0\n",
              "21           Short-term_investments         0.0\n",
              "134   3Y_Revenue_Growth_(per_Share)         0.0\n",
              "44   Investment_purchases_and_sales         0.0\n",
              "81              cashConversionCycle         0.0"
            ]
          },
          "metadata": {
            "tags": []
          },
          "execution_count": 16
        }
      ]
    },
    {
      "cell_type": "code",
      "metadata": {
        "id": "u48vmApv3gFE",
        "colab_type": "code",
        "colab": {}
      },
      "source": [
        "def plot_feature_importances(df, threshold = 0.9):\n",
        "    \"\"\"\n",
        "    Plots 15 most important features and the cumulative importance of features.\n",
        "    Prints the number of features needed to reach threshold cumulative importance.\n",
        "    \n",
        "    Parameters\n",
        "    --------\n",
        "    df : dataframe\n",
        "        Dataframe of feature importances. Columns must be feature and importance\n",
        "    threshold : float, default = 0.9\n",
        "        Threshold for prining information about cumulative importances\n",
        "        \n",
        "    Return\n",
        "    --------\n",
        "    df : dataframe\n",
        "        Dataframe ordered by feature importances with a normalized column (sums to 1)\n",
        "        and a cumulative importance column\n",
        "    \n",
        "    \"\"\"\n",
        "    \n",
        "    plt.rcParams['font.size'] = 18\n",
        "    \n",
        "    # Sort features according to importance\n",
        "    df = df.sort_values('importance', ascending = False).reset_index()\n",
        "    \n",
        "    # Normalize the feature importances to add up to one\n",
        "    df['importance_normalized'] = df['importance'] / df['importance'].sum()\n",
        "    df['cumulative_importance'] = np.cumsum(df['importance_normalized'])\n",
        "\n",
        "    # Make a horizontal bar chart of feature importances\n",
        "    plt.figure(figsize = (10, 6))\n",
        "    ax = plt.subplot()\n",
        "    \n",
        "    # Need to reverse the index to plot most important on top\n",
        "    ax.barh(list(reversed(list(df.index[:15]))), \n",
        "            df['importance_normalized'].head(15), \n",
        "            align = 'center', edgecolor = 'k')\n",
        "    \n",
        "    # Set the yticks and labels\n",
        "    ax.set_yticks(list(reversed(list(df.index[:15]))))\n",
        "    ax.set_yticklabels(df['feature'].head(15))\n",
        "    \n",
        "    # Plot labeling\n",
        "    plt.xlabel('Normalized Importance'); plt.title('Feature Importances')\n",
        "    plt.show()\n",
        "\n",
        "    # Cumulative importance plot\n",
        "    plt.figure(figsize = (8, 6))\n",
        "    plt.plot(list(range(len(df))), df['cumulative_importance'], 'r-')\n",
        "    plt.xlabel('Number of Features'); plt.ylabel('Cumulative Importance'); \n",
        "    plt.title('Cumulative Feature Importance');\n",
        "    plt.show();\n",
        "    \n",
        "    importance_index = np.min(np.where(df['cumulative_importance'] > threshold))\n",
        "    print('%d features required for %0.2f of cumulative importance' % (importance_index + 1, threshold))\n",
        "    \n",
        "    return df\n"
      ],
      "execution_count": 0,
      "outputs": []
    },
    {
      "cell_type": "code",
      "metadata": {
        "id": "fC0VZMlV3_m-",
        "colab_type": "code",
        "outputId": "56539940-090b-4bb2-9c68-e7ee63d0a931",
        "colab": {
          "base_uri": "https://localhost:8080/",
          "height": 906
        }
      },
      "source": [
        "# matplotlit and seaborn for visualizations\n",
        "import matplotlib.pyplot as plt\n",
        "plt.rcParams['font.size'] = 22\n",
        "import seaborn as sns\n",
        "\n",
        "norm_feature_importances = plot_feature_importances(feature_importances)"
      ],
      "execution_count": 18,
      "outputs": [
        {
          "output_type": "stream",
          "text": [
            "/usr/local/lib/python3.6/dist-packages/statsmodels/tools/_testing.py:19: FutureWarning: pandas.util.testing is deprecated. Use the functions in the public API at pandas.testing instead.\n",
            "  import pandas.util.testing as tm\n"
          ],
          "name": "stderr"
        },
        {
          "output_type": "display_data",
          "data": {
            "image/png": "[encoded data removed]",
            "text/plain": [
              "<Figure size 720x432 with 1 Axes>"
            ]
          },
          "metadata": {
            "tags": [],
            "needs_background": "light"
          }
        },
        {
          "output_type": "display_data",
          "data": {
            "image/png": "[encoded data removed]",
            "text/plain": [
              "<Figure size 576x432 with 1 Axes>"
            ]
          },
          "metadata": {
            "tags": [],
            "needs_background": "light"
          }
        },
        {
          "output_type": "stream",
          "text": [
            "95 features required for 0.90 of cumulative importance\n"
          ],
          "name": "stdout"
        }
      ]
    },
    {
      "cell_type": "code",
      "metadata": {
        "id": "hMywgyUa4JVu",
        "colab_type": "code",
        "outputId": "3085703b-fa87-40fe-fdbf-b341be289406",
        "colab": {
          "base_uri": "https://localhost:8080/",
          "height": 51
        }
      },
      "source": [
        "X1 = X.drop(columns = zero_features)\n",
        "test = test.drop(columns = zero_features)\n",
        "\n",
        "print('Training shape: ', X1.shape)\n",
        "print('Testing shape: ', test.shape)"
      ],
      "execution_count": 19,
      "outputs": [
        {
          "output_type": "stream",
          "text": [
            "Training shape:  (17685, 141)\n",
            "Testing shape:  (4390, 142)\n"
          ],
          "name": "stdout"
        }
      ]
    },
    {
      "cell_type": "code",
      "metadata": {
        "id": "tSq5QW1x-_c4",
        "colab_type": "code",
        "colab": {}
      },
      "source": [
        "def identify_zero_importance_features(X1, y, iterations = 2):\n",
        "    \"\"\"\n",
        "    Identify zero importance features in a training dataset based on the \n",
        "    feature importances from a gradient boosting model. \n",
        "    \n",
        "    Parameters\n",
        "    --------\n",
        "    train : dataframe\n",
        "        Training features\n",
        "        \n",
        "    train_labels : np.array\n",
        "        Labels for training data\n",
        "        \n",
        "    iterations : integer, default = 2\n",
        "        Number of cross validation splits to use for determining feature importances\n",
        "    \"\"\"\n",
        "    \n",
        "    # Initialize an empty array to hold feature importances\n",
        "    feature_importances = np.zeros(X1.shape[1])\n",
        "\n",
        "    # Create the model with several hyperparameters\n",
        "    model = lgb.LGBMClassifier(objective='binary', boosting_type = 'goss', n_estimators = 10000, class_weight = 'balanced')\n",
        "    \n",
        "    # Fit the model multiple times to avoid overfitting\n",
        "    for i in range(iterations):\n",
        "\n",
        "        # Split into training and validation set\n",
        "        train_features, valid_features, train_y, valid_y = train_test_split(X1, y, test_size = 0.25, random_state = i)\n",
        "\n",
        "        # Train using early stopping\n",
        "        model.fit(train_features, train_y, early_stopping_rounds=100, eval_set = [(valid_features, valid_y)], \n",
        "                  eval_metric = 'auc', verbose = 200)\n",
        "\n",
        "        # Record the feature importances\n",
        "        feature_importances += model.feature_importances_ / iterations\n",
        "    \n",
        "    feature_importances = pd.DataFrame({'feature': list(X1.columns), 'importance': feature_importances}).sort_values('importance', ascending = False)\n",
        "    \n",
        "    # Find the features with zero importance\n",
        "    zero_features = list(feature_importances[feature_importances['importance'] == 0.0]['feature'])\n",
        "    print('\\nThere are %d features with 0.0 importance' % len(zero_features))\n",
        "    \n",
        "    return zero_features, feature_importances"
      ],
      "execution_count": 0,
      "outputs": []
    },
    {
      "cell_type": "code",
      "metadata": {
        "id": "sV8LgfiN_ZdW",
        "colab_type": "code",
        "outputId": "f203ff0e-6127-461a-dabd-83bc6649dae9",
        "colab": {
          "base_uri": "https://localhost:8080/",
          "height": 153
        }
      },
      "source": [
        "second_round_zero_features, feature_importances = identify_zero_importance_features(X1, y)"
      ],
      "execution_count": 21,
      "outputs": [
        {
          "output_type": "stream",
          "text": [
            "Training until validation scores don't improve for 100 rounds.\n",
            "Early stopping, best iteration is:\n",
            "[9]\tvalid_0's auc: 0.646039\tvalid_0's binary_logloss: 0.663267\n",
            "Training until validation scores don't improve for 100 rounds.\n",
            "Early stopping, best iteration is:\n",
            "[11]\tvalid_0's auc: 0.6596\tvalid_0's binary_logloss: 0.659342\n",
            "\n",
            "There are 0 features with 0.0 importance\n"
          ],
          "name": "stdout"
        }
      ]
    },
    {
      "cell_type": "code",
      "metadata": {
        "id": "4unUPXq-_mlj",
        "colab_type": "code",
        "outputId": "c7706411-be28-4fca-fd03-c935a36facc7",
        "colab": {
          "base_uri": "https://localhost:8080/",
          "height": 852
        }
      },
      "source": [
        "norm_feature_importances = plot_feature_importances(feature_importances, threshold = 0.95)"
      ],
      "execution_count": 22,
      "outputs": [
        {
          "output_type": "display_data",
          "data": {
            "image/png": "[encoded data removed]",
            "text/plain": [
              "<Figure size 720x432 with 1 Axes>"
            ]
          },
          "metadata": {
            "tags": [],
            "needs_background": "light"
          }
        },
        {
          "output_type": "display_data",
          "data": {
            "image/png": "[encoded data removed]",
            "text/plain": [
              "<Figure size 576x432 with 1 Axes>"
            ]
          },
          "metadata": {
            "tags": [],
            "needs_background": "light"
          }
        },
        {
          "output_type": "stream",
          "text": [
            "112 features required for 0.95 of cumulative importance\n"
          ],
          "name": "stdout"
        }
      ]
    },
    {
      "cell_type": "code",
      "metadata": {
        "id": "aLnpfGLv_wBN",
        "colab_type": "code",
        "colab": {}
      },
      "source": [
        "# Threshold for cumulative importance\n",
        "threshold = 0.95\n",
        "\n",
        "# Extract the features to keep\n",
        "features_to_keep = list(norm_feature_importances[norm_feature_importances['cumulative_importance'] < threshold]['feature'])\n",
        "\n",
        "# Create new datasets with smaller features\n",
        "X_small = X1[features_to_keep]\n",
        "test_small = test[features_to_keep]"
      ],
      "execution_count": 0,
      "outputs": []
    },
    {
      "cell_type": "code",
      "metadata": {
        "id": "wXo3UnLaBDkZ",
        "colab_type": "code",
        "colab": {}
      },
      "source": [
        "def identify_zero_importance_features(X_small, y, iterations = 2):\n",
        "    \"\"\"\n",
        "    Identify zero importance features in a training dataset based on the \n",
        "    feature importances from a gradient boosting model. \n",
        "    \n",
        "    Parameters\n",
        "    --------\n",
        "    train : dataframe\n",
        "        Training features\n",
        "        \n",
        "    train_labels : np.array\n",
        "        Labels for training data\n",
        "        \n",
        "    iterations : integer, default = 2\n",
        "        Number of cross validation splits to use for determining feature importances\n",
        "    \"\"\"\n",
        "    \n",
        "    # Initialize an empty array to hold feature importances\n",
        "    feature_importances = np.zeros(X_small.shape[1])\n",
        "\n",
        "    # Create the model with several hyperparameters\n",
        "    model = lgb.LGBMClassifier(objective='binary', boosting_type = 'goss', n_estimators = 10000, class_weight = 'balanced')\n",
        "    \n",
        "    # Fit the model multiple times to avoid overfitting\n",
        "    for i in range(iterations):\n",
        "\n",
        "        # Split into training and validation set\n",
        "        train_features, valid_features, train_y, valid_y = train_test_split(X_small, y, test_size = 0.25, random_state = i)\n",
        "\n",
        "        # Train using early stopping\n",
        "        model.fit(train_features, train_y, early_stopping_rounds=100, eval_set = [(valid_features, valid_y)], \n",
        "                  eval_metric = 'auc', verbose = 200)\n",
        "\n",
        "        # Record the feature importances\n",
        "        feature_importances += model.feature_importances_ / iterations\n",
        "    \n",
        "    feature_importances = pd.DataFrame({'feature': list(X_small.columns), 'importance': feature_importances}).sort_values('importance', ascending = False)\n",
        "    \n",
        "    # Find the features with zero importance\n",
        "    zero_features = list(feature_importances[feature_importances['importance'] == 0.0]['feature'])\n",
        "    print('\\nThere are %d features with 0.0 importance' % len(zero_features))\n",
        "    \n",
        "    return zero_features, feature_importances"
      ],
      "execution_count": 0,
      "outputs": []
    },
    {
      "cell_type": "code",
      "metadata": {
        "id": "OJbL2y7BBNqt",
        "colab_type": "code",
        "outputId": "92b4dd8e-0f93-407e-9365-1555dbf16987",
        "colab": {
          "base_uri": "https://localhost:8080/",
          "height": 852
        }
      },
      "source": [
        "norm_feature_importances = plot_feature_importances(feature_importances, threshold = 0.95)"
      ],
      "execution_count": 25,
      "outputs": [
        {
          "output_type": "display_data",
          "data": {
            "image/png": "[encoded data removed]",
            "text/plain": [
              "<Figure size 720x432 with 1 Axes>"
            ]
          },
          "metadata": {
            "tags": [],
            "needs_background": "light"
          }
        },
        {
          "output_type": "display_data",
          "data": {
            "image/png": "[encoded data removed]",
            "text/plain": [
              "<Figure size 576x432 with 1 Axes>"
            ]
          },
          "metadata": {
            "tags": [],
            "needs_background": "light"
          }
        },
        {
          "output_type": "stream",
          "text": [
            "112 features required for 0.95 of cumulative importance\n"
          ],
          "name": "stdout"
        }
      ]
    },
    {
      "cell_type": "code",
      "metadata": {
        "id": "AN1KEFNqR00x",
        "colab_type": "code",
        "outputId": "b0a34276-3c45-48d0-b6e4-ed7fb0ea33ea",
        "colab": {
          "base_uri": "https://localhost:8080/",
          "height": 578
        }
      },
      "source": [
        "X_small = pd.DataFrame(X_small)\n",
        "X_final = X_small.iloc[:,0:15]\n",
        "\n",
        "import statsmodels.api as sm\n",
        "logit_model=sm.Logit(y,X_final)\n",
        "result=logit_model.fit()\n",
        "print(result.summary2())"
      ],
      "execution_count": 67,
      "outputs": [
        {
          "output_type": "stream",
          "text": [
            "Optimization terminated successfully.\n",
            "         Current function value: 0.689366\n",
            "         Iterations 8\n",
            "                                Results: Logit\n",
            "===============================================================================\n",
            "Model:                    Logit                Pseudo R-squared:     0.005     \n",
            "Dependent Variable:       Class                AIC:                  24390.8808\n",
            "Date:                     2020-04-16 17:27     BIC:                  24422.0027\n",
            "No. Observations:         17685                Log-Likelihood:       -12191.   \n",
            "Df Model:                 3                    LL-Null:              -12250.   \n",
            "Df Residuals:             17681                LLR p-value:          3.1199e-25\n",
            "Converged:                1.0000               Scale:                1.0000    \n",
            "No. Iterations:           8.0000                                               \n",
            "-------------------------------------------------------------------------------\n",
            "                                 Coef.  Std.Err.    z    P>|z|   [0.025  0.975]\n",
            "-------------------------------------------------------------------------------\n",
            "Effect_of_forex_changes_on_cash  0.0000   0.0000  0.6386 0.5231 -0.0000  0.0000\n",
            "Revenue_Growth                  -0.0005   0.0006 -0.8042 0.4213 -0.0016  0.0007\n",
            "Inventory_Growth                -0.0162   0.0092 -1.7636 0.0778 -0.0342  0.0018\n",
            "Weighted_Average_Shs_Out        -0.0000   0.0000 -0.9213 0.3569 -0.0000  0.0000\n",
            "Net_Income_per_Share            -0.0000   0.0000 -0.0680 0.9458 -0.0000  0.0000\n",
            "Earnings_Yield                  -0.0001   0.0001 -0.7249 0.4685 -0.0002  0.0001\n",
            "Sector_Energy                   -0.5675   0.0673 -8.4305 0.0000 -0.6994 -0.4355\n",
            "priceFairValue                   0.0000   0.0000  0.1588 0.8738 -0.0000  0.0000\n",
            "Issuance_(buybacks)_of_shares   -0.0000   0.0000 -2.4828 0.0130 -0.0000 -0.0000\n",
            "Weighted_Average_Shares_Growth   0.0001   0.0001  0.4794 0.6317 -0.0002  0.0004\n",
            "EPS                              0.0000   0.0000  1.1507 0.2499 -0.0000  0.0000\n",
            "Deposit_Liabilities              0.0000   0.0000  0.0320 0.9745 -0.0000  0.0000\n",
            "grossProfitMargin                0.1415   0.0246  5.7602 0.0000  0.0933  0.1896\n",
            "effectiveTaxRate                -0.0002   0.0003 -0.4810 0.6305 -0.0008  0.0005\n",
            "niperEBT                        -0.0004   0.0019 -0.2373 0.8125 -0.0041  0.0032\n",
            "===============================================================================\n",
            "\n"
          ],
          "name": "stdout"
        }
      ]
    },
    {
      "cell_type": "code",
      "metadata": {
        "id": "zebMqaORtzs9",
        "colab_type": "code",
        "outputId": "bbe9b422-8242-466b-bc99-78a5e3b24778",
        "colab": {
          "base_uri": "https://localhost:8080/",
          "height": 102
        }
      },
      "source": [
        "from sklearn.linear_model import LogisticRegression\n",
        "from sklearn import metrics\n",
        "\n",
        "logreg = LogisticRegression()\n",
        "logreg.fit(X_final, y)"
      ],
      "execution_count": 68,
      "outputs": [
        {
          "output_type": "execute_result",
          "data": {
            "text/plain": [
              "LogisticRegression(C=1.0, class_weight=None, dual=False, fit_intercept=True,\n",
              "                   intercept_scaling=1, l1_ratio=None, max_iter=100,\n",
              "                   multi_class='auto', n_jobs=None, penalty='l2',\n",
              "                   random_state=None, solver='lbfgs', tol=0.0001, verbose=0,\n",
              "                   warm_start=False)"
            ]
          },
          "metadata": {
            "tags": []
          },
          "execution_count": 68
        }
      ]
    },
    {
      "cell_type": "code",
      "metadata": {
        "id": "OYTdR5Rhw7y-",
        "colab_type": "code",
        "outputId": "88fae533-625a-4af0-a8e7-5c647c2e67e6",
        "colab": {
          "base_uri": "https://localhost:8080/",
          "height": 34
        }
      },
      "source": [
        "cols=['Effect_of_forex_changes_on_cash','Revenue_Growth','effectiveTaxRate','Earnings_Yield','Inventory_Growth',\n",
        "      'Weighted_Average_Shs_Out','priceFairValue','Weighted_Average_Shares_Growth',\n",
        "      'Net_Income_per_Share','Issuance_(buybacks)_of_shares','Sector_Energy','EPS',\n",
        "      'Deposit_Liabilities','grossProfitMargin','niperEBT']\n",
        "X_test=test_small[cols]\n",
        "y_pred = logreg.predict(X_test)\n",
        "y_test=test['Class']\n",
        "print('Accuracy of logistic regression classifier on test set: {:.2f}'.format(logreg.score(X_test, y_test)))"
      ],
      "execution_count": 69,
      "outputs": [
        {
          "output_type": "stream",
          "text": [
            "Accuracy of logistic regression classifier on test set: 0.42\n"
          ],
          "name": "stdout"
        }
      ]
    },
    {
      "cell_type": "code",
      "metadata": {
        "id": "ckHPcMRqq2gX",
        "colab_type": "code",
        "colab": {}
      },
      "source": [
        "# cols=['Effect_of_forex_changes_on_cash','Revenue_Growth','effectiveTaxRate','Earnings_Yield','Inventory_Growth',\n",
        "#       'Weighted_Average_Shs_Out','priceFairValue','Weighted_Average_Shares_Growth',\n",
        "#       'Net_Income_per_Share','Issuance_(buybacks)_of_shares','Sector_Energy','EPS',\n",
        "#       'Deposit_Liabilities','grossProfitMargin','niperEBT']\n",
        "# x=X_small[cols]\n",
        "# logit_model1=sm.Logit(y,x)\n",
        "# result1=logit_model1.fit()\n",
        "# print(result1.summary2())"
      ],
      "execution_count": 0,
      "outputs": []
    },
    {
      "cell_type": "code",
      "metadata": {
        "id": "SBf_IM6KhTWF",
        "colab_type": "code",
        "colab": {
          "base_uri": "https://localhost:8080/",
          "height": 170
        },
        "outputId": "52b3eea9-85b8-4d1d-c06d-b6bda23ec49d"
      },
      "source": [
        "from sklearn.metrics import classification_report\n",
        "print(classification_report(y_test, y_pred))"
      ],
      "execution_count": 70,
      "outputs": [
        {
          "output_type": "stream",
          "text": [
            "              precision    recall  f1-score   support\n",
            "\n",
            "         0.0       0.30      0.68      0.42      1345\n",
            "         1.0       0.68      0.30      0.42      3045\n",
            "\n",
            "    accuracy                           0.42      4390\n",
            "   macro avg       0.49      0.49      0.42      4390\n",
            "weighted avg       0.56      0.42      0.42      4390\n",
            "\n"
          ],
          "name": "stdout"
        }
      ]
    },
    {
      "cell_type": "code",
      "metadata": {
        "id": "exlzRxTom8qT",
        "colab_type": "code",
        "colab": {
          "base_uri": "https://localhost:8080/",
          "height": 295
        },
        "outputId": "6318ab6e-e777-4fd0-9784-e838e7684384"
      },
      "source": [
        "from sklearn.metrics import roc_auc_score\n",
        "from sklearn.metrics import roc_curve\n",
        "logit_roc_auc = roc_auc_score(y_test, logreg.predict(X_test))\n",
        "fpr, tpr, thresholds = roc_curve(y_test, logreg.predict_proba(X_test)[:,1])\n",
        "plt.figure()\n",
        "plt.plot(fpr, tpr, label='Logistic Regression (area = %0.2f)' % logit_roc_auc)\n",
        "plt.plot([0, 1], [0, 1],'r--')\n",
        "plt.xlim([0.0, 1.0])\n",
        "plt.ylim([0.0, 1.05])\n",
        "plt.xlabel('False Positive Rate')\n",
        "plt.ylabel('True Positive Rate')\n",
        "plt.legend(loc=\"lower right\")\n",
        "plt.savefig('Log_ROC')\n",
        "plt.show()"
      ],
      "execution_count": 71,
      "outputs": [
        {
          "output_type": "display_data",
          "data": {
            "image/png": "[encoded data removed]",
            "text/plain": [
              "<Figure size 432x288 with 1 Axes>"
            ]
          },
          "metadata": {
            "tags": [],
            "needs_background": "light"
          }
        }
      ]
    },
    {
      "cell_type": "code",
      "metadata": {
        "id": "1_73sRQpzOqu",
        "colab_type": "code",
        "colab": {
          "base_uri": "https://localhost:8080/",
          "height": 459
        },
        "outputId": "7925962e-d4e1-45d8-d7d7-48c6c9568bb6"
      },
      "source": [
        "## below is 3-variables\n",
        "cols2=['Sector_Energy','Issuance_(buybacks)_of_shares','grossProfitMargin']\n",
        "x2=X_final[cols2]\n",
        "logit_model2=sm.Logit(y,x2)\n",
        "result2=logit_model2.fit()\n",
        "print(result2.summary2())\n",
        "\n",
        "logreg = LogisticRegression()\n",
        "logreg.fit(x2, y)"
      ],
      "execution_count": 72,
      "outputs": [
        {
          "output_type": "stream",
          "text": [
            "Optimization terminated successfully.\n",
            "         Current function value: 0.689796\n",
            "         Iterations 6\n",
            "                               Results: Logit\n",
            "=============================================================================\n",
            "Model:                  Logit                Pseudo R-squared:     0.004     \n",
            "Dependent Variable:     Class                AIC:                  24400.0710\n",
            "Date:                   2020-04-16 17:27     BIC:                  24407.8514\n",
            "No. Observations:       17685                Log-Likelihood:       -12199.   \n",
            "Df Model:               0                    LL-Null:              -12250.   \n",
            "Df Residuals:           17684                LLR p-value:          nan       \n",
            "Converged:              1.0000               Scale:                1.0000    \n",
            "No. Iterations:         6.0000                                               \n",
            "-----------------------------------------------------------------------------\n",
            "                               Coef.  Std.Err.    z    P>|z|   [0.025  0.975]\n",
            "-----------------------------------------------------------------------------\n",
            "Sector_Energy                 -0.5747   0.0671 -8.5621 0.0000 -0.7062 -0.4431\n",
            "Issuance_(buybacks)_of_shares -0.0000   0.0000 -2.4113 0.0159 -0.0000 -0.0000\n",
            "grossProfitMargin              0.1370   0.0242  5.6609 0.0000  0.0895  0.1844\n",
            "=============================================================================\n",
            "\n"
          ],
          "name": "stdout"
        },
        {
          "output_type": "execute_result",
          "data": {
            "text/plain": [
              "LogisticRegression(C=1.0, class_weight=None, dual=False, fit_intercept=True,\n",
              "                   intercept_scaling=1, l1_ratio=None, max_iter=100,\n",
              "                   multi_class='auto', n_jobs=None, penalty='l2',\n",
              "                   random_state=None, solver='lbfgs', tol=0.0001, verbose=0,\n",
              "                   warm_start=False)"
            ]
          },
          "metadata": {
            "tags": []
          },
          "execution_count": 72
        }
      ]
    },
    {
      "cell_type": "code",
      "metadata": {
        "id": "jKkJnnvU7yZH",
        "colab_type": "code",
        "colab": {
          "base_uri": "https://localhost:8080/",
          "height": 34
        },
        "outputId": "8d7c9f51-eb96-4531-e693-752b8870df5a"
      },
      "source": [
        "X_test=test_small[cols2]\n",
        "y_pred = logreg.predict(X_test)\n",
        "y_test=test['Class']\n",
        "print('Accuracy of logistic regression classifier on test set: {:.2f}'.format(logreg.score(X_test, y_test)))"
      ],
      "execution_count": 73,
      "outputs": [
        {
          "output_type": "stream",
          "text": [
            "Accuracy of logistic regression classifier on test set: 0.60\n"
          ],
          "name": "stdout"
        }
      ]
    },
    {
      "cell_type": "code",
      "metadata": {
        "id": "YPfZemgY77K5",
        "colab_type": "code",
        "colab": {
          "base_uri": "https://localhost:8080/",
          "height": 170
        },
        "outputId": "df943674-0fd8-4320-b601-f5c3c9e0fdff"
      },
      "source": [
        "print(classification_report(y_test, y_pred))"
      ],
      "execution_count": 74,
      "outputs": [
        {
          "output_type": "stream",
          "text": [
            "              precision    recall  f1-score   support\n",
            "\n",
            "         0.0       0.38      0.50      0.43      1345\n",
            "         1.0       0.74      0.64      0.69      3045\n",
            "\n",
            "    accuracy                           0.60      4390\n",
            "   macro avg       0.56      0.57      0.56      4390\n",
            "weighted avg       0.63      0.60      0.61      4390\n",
            "\n"
          ],
          "name": "stdout"
        }
      ]
    },
    {
      "cell_type": "code",
      "metadata": {
        "id": "5LWLYZ3Y7-fZ",
        "colab_type": "code",
        "colab": {
          "base_uri": "https://localhost:8080/",
          "height": 295
        },
        "outputId": "4bd636f1-9cc7-4b59-c7d3-9d8139403482"
      },
      "source": [
        "logit_roc_auc = roc_auc_score(y_test, logreg.predict(X_test))\n",
        "fpr, tpr, thresholds = roc_curve(y_test, logreg.predict_proba(X_test)[:,1])\n",
        "plt.figure()\n",
        "plt.plot(fpr, tpr, label='Logistic Regression (area = %0.2f)' % logit_roc_auc)\n",
        "plt.plot([0, 1], [0, 1],'r--')\n",
        "plt.xlim([0.0, 1.0])\n",
        "plt.ylim([0.0, 1.05])\n",
        "plt.xlabel('False Positive Rate')\n",
        "plt.ylabel('True Positive Rate')\n",
        "plt.legend(loc=\"lower right\")\n",
        "plt.savefig('Log_ROC')\n",
        "plt.show()"
      ],
      "execution_count": 75,
      "outputs": [
        {
          "output_type": "display_data",
          "data": {
            "image/png": "[encoded data removed]",
            "text/plain": [
              "<Figure size 432x288 with 1 Axes>"
            ]
          },
          "metadata": {
            "tags": [],
            "needs_background": "light"
          }
        }
      ]
    }
  ]
}