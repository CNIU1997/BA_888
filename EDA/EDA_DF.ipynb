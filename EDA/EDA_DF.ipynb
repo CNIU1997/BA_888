{
  "nbformat": 4,
  "nbformat_minor": 0,
  "metadata": {
    "colab": {
      "name": "EDA_DF.ipynb",
      "provenance": [],
      "authorship_tag": "ABX9TyM8w+GDD+LCwfb+3USovLqP",
      "include_colab_link": true
    },
    "kernelspec": {
      "name": "python3",
      "display_name": "Python 3"
    }
  },
  "cells": [
    {
      "cell_type": "markdown",
      "metadata": {
        "id": "view-in-github",
        "colab_type": "text"
      },
      "source": [
        "<a href=\"https://colab.research.google.com/github/CNIU1997/BA_888/blob/master/EDA_DF.ipynb\" target=\"_parent\"><img src=\"https://colab.research.google.com/assets/colab-badge.svg\" alt=\"Open In Colab\"/></a>"
      ]
    },
    {
      "cell_type": "code",
      "metadata": {
        "id": "rz_5yFEy-l-N",
        "colab_type": "code",
        "colab": {}
      },
      "source": [
        "## upload files and import library\n",
        "from google.colab import files\n",
        "#uploaded = files.upload()\n",
        "\n",
        "import pandas as pd\n",
        "import numpy as np\n",
        "from scipy.stats.mstats import winsorize\n",
        "from sklearn.preprocessing import StandardScaler\n",
        "from sklearn.ensemble import RandomForestClassifier"
      ],
      "execution_count": 0,
      "outputs": []
    },
    {
      "cell_type": "code",
      "metadata": {
        "id": "OmHFkUih-tRw",
        "colab_type": "code",
        "outputId": "d78ff04f-283b-497d-8d5a-696d985f379d",
        "colab": {
          "base_uri": "https://localhost:8080/",
          "height": 72
        }
      },
      "source": [
        "train = pd.read_csv('train_data.csv',index_col=0)\n",
        "test = pd.read_csv('test_data.csv',index_col=0)\n",
        "\n",
        "## clean train\n",
        "train = train[train.Sector != 'X1']\n",
        "train = train[train.Sector != 'TRUE']\n",
        "\n",
        "# ##to test stability-- randomly select 99% of the train data\n",
        "# train = train.sample(frac=0.99)\n",
        "\n",
        "df = pd.concat([train, test], join=\"outer\") \n",
        "\n",
        "df = df.iloc[:-2].drop(['X1','PRICE_VAR','year'],axis=1)\n",
        "cols = df.select_dtypes(exclude=['float']).columns\n",
        "df[cols] = df[cols].apply(pd.to_numeric, downcast='float', errors='coerce')\n",
        "\n",
        "for col in df: \n",
        "     df[col] = winsorize(df[col], limits=[0.05,0.05])\n",
        "\n",
        "\n",
        "train = df.sample(frac=0.80)"
      ],
      "execution_count": 0,
      "outputs": [
        {
          "output_type": "stream",
          "text": [
            "/usr/local/lib/python3.6/dist-packages/IPython/core/interactiveshell.py:2718: DtypeWarning: Columns (2,3,4,5,6,7,8,9,10,11,12,13,14,15,16,17,18,19,20,21,22,23,24,25,26,27,28,29,30,31,32,33,34,35,36,37,38,39,40,41,42,43,44,45,46,47,48,49,50,51,52,53,54,55,56,57,58,59,60,61,62,63,64,65,66,67,68,69,70,71,72,73,74,75,76,77,78,79,80,81,82,83,84,85,86,87,88,89,90,91,92,93,94,95,96,97,98,99,100,101,102,103,104,105,106,107,108,109,110,111,112,113,114,115,116,117,118,119,120,121,122,123,124,125,126,127,128,129,130,131,132,133,134,135,136,137,138,139,140,141,142,143,144,145,146,147,148,149,150,151,152,153,154,155,156,157,158,159,160,161,162,163,164,165,166,167,168,169,170,171,172,173,174,175,176,177,178,179,180,181,182,183,184,185,186,187,188,189,190,191,192,193,194,195,196,197,198,199,200,201,202,203,204,205,206,207,208,209,210,211,212,213,214,215,216,217,218,219,220,221,222,224,225,226) have mixed types.Specify dtype option on import or set low_memory=False.\n",
            "  interactivity=interactivity, compiler=compiler, result=result)\n"
          ],
          "name": "stderr"
        }
      ]
    },
    {
      "cell_type": "code",
      "metadata": {
        "id": "ZABngrqKLjAZ",
        "colab_type": "code",
        "outputId": "eb046b3b-2197-461b-ef10-3ebe45ddf1a8",
        "colab": {
          "base_uri": "https://localhost:8080/",
          "height": 69
        }
      },
      "source": [
        "train.Class.value_counts(normalize=True)"
      ],
      "execution_count": 0,
      "outputs": [
        {
          "output_type": "execute_result",
          "data": {
            "text/plain": [
              "1.0    0.550849\n",
              "0.0    0.449151\n",
              "Name: Class, dtype: float64"
            ]
          },
          "metadata": {
            "tags": []
          },
          "execution_count": 5
        }
      ]
    },
    {
      "cell_type": "code",
      "metadata": {
        "id": "sHJIqtY7LoN9",
        "colab_type": "code",
        "colab": {}
      },
      "source": [
        "# saving the dataframe \n",
        "train.to_csv('train_eda.csv') "
      ],
      "execution_count": 0,
      "outputs": []
    }
  ]
}