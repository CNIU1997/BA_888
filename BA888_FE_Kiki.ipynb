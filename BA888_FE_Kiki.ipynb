{
  "nbformat": 4,
  "nbformat_minor": 0,
  "metadata": {
    "colab": {
      "name": "BA888_FE_Kiki.ipynb",
      "provenance": [],
      "collapsed_sections": [],
      "authorship_tag": "ABX9TyN+dYM4bLDYdDjjta79tLma",
      "include_colab_link": true
    },
    "kernelspec": {
      "name": "python3",
      "display_name": "Python 3"
    },
    "accelerator": "GPU"
  },
  "cells": [
    {
      "cell_type": "markdown",
      "metadata": {
        "id": "view-in-github",
        "colab_type": "text"
      },
      "source": [
        "<a href=\"https://colab.research.google.com/github/CNIU1997/BA_888/blob/master/BA888_FE_Kiki.ipynb\" target=\"_parent\"><img src=\"https://colab.research.google.com/assets/colab-badge.svg\" alt=\"Open In Colab\"/></a>"
      ]
    },
    {
      "cell_type": "code",
      "metadata": {
        "id": "5PbJN02KmluG",
        "colab_type": "code",
        "colab": {}
      },
      "source": [
        "## upload files and import library\n",
        "from google.colab import files\n",
        "#uploaded = files.upload()\n",
        "\n",
        "import pandas as pd\n",
        "import numpy as np\n",
        "from scipy.stats.mstats import winsorize\n",
        "from sklearn.preprocessing import StandardScaler\n",
        "from sklearn.ensemble import RandomForestClassifier\n",
        "from scipy.stats.mstats import winsorize\n",
        "from scipy import stats\n",
        "from sklearn.preprocessing import StandardScaler\n",
        "from sklearn.model_selection import train_test_split\n",
        "from sklearn.metrics import confusion_matrix\n",
        "from sklearn.metrics import classification_report"
      ],
      "execution_count": 0,
      "outputs": []
    },
    {
      "cell_type": "markdown",
      "metadata": {
        "id": "j9QvnDABn5pN",
        "colab_type": "text"
      },
      "source": [
        " **Import Dataset**"
      ]
    },
    {
      "cell_type": "code",
      "metadata": {
        "id": "ygbU6rTJWfFY",
        "colab_type": "code",
        "colab": {
          "base_uri": "https://localhost:8080/",
          "height": 72
        },
        "outputId": "e5a75fa1-6dd3-4abc-a55e-af6ee71cec9e"
      },
      "source": [
        "train = pd.read_csv('train_data.csv',index_col=0)\n",
        "test = pd.read_csv('test_data.csv',index_col=0)\n",
        "\n",
        "## clean train\n",
        "train = train[train.Sector != 'X1']\n",
        "train = train[train.Sector != 'TRUE']\n",
        "\n",
        "# ##to test stability-- randomly select 99% of the train data\n",
        "# train = train.sample(frac=0.99)"
      ],
      "execution_count": 232,
      "outputs": [
        {
          "output_type": "stream",
          "text": [
            "/usr/local/lib/python3.6/dist-packages/IPython/core/interactiveshell.py:2718: DtypeWarning: Columns (2,3,4,5,6,7,8,9,10,11,12,13,14,15,16,17,18,19,20,21,22,23,24,25,26,27,28,29,30,31,32,33,34,35,36,37,38,39,40,41,42,43,44,45,46,47,48,49,50,51,52,53,54,55,56,57,58,59,60,61,62,63,64,65,66,67,68,69,70,71,72,73,74,75,76,77,78,79,80,81,82,83,84,85,86,87,88,89,90,91,92,93,94,95,96,97,98,99,100,101,102,103,104,105,106,107,108,109,110,111,112,113,114,115,116,117,118,119,120,121,122,123,124,125,126,127,128,129,130,131,132,133,134,135,136,137,138,139,140,141,142,143,144,145,146,147,148,149,150,151,152,153,154,155,156,157,158,159,160,161,162,163,164,165,166,167,168,169,170,171,172,173,174,175,176,177,178,179,180,181,182,183,184,185,186,187,188,189,190,191,192,193,194,195,196,197,198,199,200,201,202,203,204,205,206,207,208,209,210,211,212,213,214,215,216,217,218,219,220,221,222,224,225,226) have mixed types.Specify dtype option on import or set low_memory=False.\n",
            "  interactivity=interactivity, compiler=compiler, result=result)\n"
          ],
          "name": "stderr"
        }
      ]
    },
    {
      "cell_type": "code",
      "metadata": {
        "id": "6JZPAtY16aJt",
        "colab_type": "code",
        "colab": {}
      },
      "source": [
        "train = pd.get_dummies(train, columns=['Sector'])\n",
        "test = pd.get_dummies(test, columns=['Sector'])"
      ],
      "execution_count": 0,
      "outputs": []
    },
    {
      "cell_type": "markdown",
      "metadata": {
        "id": "_WcPmBwtvPEg",
        "colab_type": "text"
      },
      "source": [
        "###Version 1: mearge train test"
      ]
    },
    {
      "cell_type": "code",
      "metadata": {
        "id": "r_IcZSBmu_Ec",
        "colab_type": "code",
        "colab": {}
      },
      "source": [
        "df = pd.concat([train, test], join=\"outer\") \n",
        "\n",
        "df = df.iloc[:-2].drop(['X1','PRICE_VAR','year'],axis=1)\n",
        "cols = df.select_dtypes(exclude=['float']).columns\n",
        "df[cols] = df[cols].apply(pd.to_numeric, downcast='float', errors='coerce')\n",
        "\n",
        "\n",
        "for col in df: \n",
        "     df[col] = winsorize(df[col], limits=[0.05,0.05])\n",
        "\n",
        "\n",
        "X = df.drop(['Class'],axis=1)\n",
        "y = df['Class']\n",
        "\n",
        "X_train, X_test, y_train, y_test = train_test_split(X, y, test_size=0.20, random_state=42)"
      ],
      "execution_count": 0,
      "outputs": []
    },
    {
      "cell_type": "code",
      "metadata": {
        "id": "RF_GzOUjxylb",
        "colab_type": "code",
        "colab": {
          "base_uri": "https://localhost:8080/",
          "height": 121
        },
        "outputId": "980428f3-e9cf-409d-ad75-ee085e6a4e04"
      },
      "source": [
        "print(y_train.value_counts(normalize=True))\n",
        "print(y_test.value_counts(normalize=True))"
      ],
      "execution_count": 235,
      "outputs": [
        {
          "output_type": "stream",
          "text": [
            "1.0    0.548414\n",
            "0.0    0.451586\n",
            "Name: Class, dtype: float64\n",
            "1.0    0.560136\n",
            "0.0    0.439864\n",
            "Name: Class, dtype: float64\n"
          ],
          "name": "stdout"
        }
      ]
    },
    {
      "cell_type": "markdown",
      "metadata": {
        "id": "Qu5I2SKnvSB_",
        "colab_type": "text"
      },
      "source": [
        "Version 2: use train and test"
      ]
    },
    {
      "cell_type": "code",
      "metadata": {
        "id": "ZxObrTbt-jsV",
        "colab_type": "code",
        "colab": {}
      },
      "source": [
        "# X_train = train.iloc[:-2].drop(['X1','PRICE_VAR','year','Class'],axis=1)\n",
        "# X_test = test.iloc[:-2].drop(['X1','PRICE_VAR','year','Class'],axis=1)\n",
        "# cols = X_train.select_dtypes(exclude=['float']).columns\n",
        "# cols2 = X_test.select_dtypes(exclude=['float']).columns\n",
        "# X_train[cols] = X_train[cols].apply(pd.to_numeric, downcast='float', errors='coerce')\n",
        "# X_test[cols2] = X_test[cols2].apply(pd.to_numeric, downcast='float', errors='coerce')\n",
        "\n",
        "# y_train = train.iloc[:-2][['Class']]\n",
        "# y_test = test.iloc[:-2][['Class']]\n",
        "\n",
        "# y_train['Class'] =y_train['Class'].apply(pd.to_numeric, downcast='float', errors='coerce')\n",
        "\n",
        "# X_train.fillna(0, inplace=True)\n",
        "# X_test.fillna(0, inplace=True)\n",
        "\n",
        "# ##check na in y\n",
        "# y_train[pd.isnull(y_train).any(axis=1)]\n",
        "# # y_train.dropna(inplace = True)\n",
        "# # X_train.drop(y_train.index[[7929,12727,12728]],inplace=True)"
      ],
      "execution_count": 0,
      "outputs": []
    },
    {
      "cell_type": "code",
      "metadata": {
        "id": "jpRggPF6BuHH",
        "colab_type": "code",
        "colab": {
          "base_uri": "https://localhost:8080/",
          "height": 86
        },
        "outputId": "70eb748c-51b1-4310-ae49-bfd8aafdf0a0"
      },
      "source": [
        "print('Training Features Shape:', X_train.shape)\n",
        "print('Training Labels Shape:', y_train.shape)\n",
        "print('Testing Features Shape:', X_test.shape)\n",
        "print('Testing Labels Shape:', y_test.shape)"
      ],
      "execution_count": 237,
      "outputs": [
        {
          "output_type": "stream",
          "text": [
            "Training Features Shape: (17660, 232)\n",
            "Training Labels Shape: (17660,)\n",
            "Testing Features Shape: (4415, 232)\n",
            "Testing Labels Shape: (4415,)\n"
          ],
          "name": "stdout"
        }
      ]
    },
    {
      "cell_type": "markdown",
      "metadata": {
        "id": "w1Si47hAqdeG",
        "colab_type": "text"
      },
      "source": [
        "\n",
        "\n",
        "---\n",
        "\n"
      ]
    },
    {
      "cell_type": "markdown",
      "metadata": {
        "id": "F_NKHSpMtmLx",
        "colab_type": "text"
      },
      "source": [
        "**Outliers and Standardization**"
      ]
    },
    {
      "cell_type": "code",
      "metadata": {
        "id": "ZXUsr8pGtkG2",
        "colab_type": "code",
        "colab": {}
      },
      "source": [
        "# from scipy.stats.mstats import winsorize\n",
        "# from scipy import stats\n",
        "# ## remove outliers 5% higher than the max and 5% lower than the min using for loop and winsorize\n",
        "# for col in X_train: \n",
        "#      X_train[col] = winsorize(X_train[col], limits=[0.05,0.05])"
      ],
      "execution_count": 0,
      "outputs": []
    },
    {
      "cell_type": "code",
      "metadata": {
        "id": "d9IExcDZtObV",
        "colab_type": "code",
        "colab": {}
      },
      "source": [
        "from sklearn.preprocessing import StandardScaler\n",
        "scaler = StandardScaler() # calculate mean and standard deviation of train set\n",
        "scaler.fit(X_train)\n",
        "\n",
        "\n",
        "scaler2 = StandardScaler() # calculate mean and standard deviation of test set\n",
        "scaler2.fit(X_test)\n",
        "\n",
        "\n",
        "X_train_scaled = scaler.transform(X_train) \n",
        "X_test_scaled = scaler2.transform(X_test) "
      ],
      "execution_count": 0,
      "outputs": []
    },
    {
      "cell_type": "markdown",
      "metadata": {
        "id": "ANRpSHX8FXyU",
        "colab_type": "text"
      },
      "source": [
        "**Check for balance**"
      ]
    },
    {
      "cell_type": "code",
      "metadata": {
        "id": "QxzWPDmmFaVY",
        "colab_type": "code",
        "outputId": "82ffccc5-76c7-41a9-8561-a533407fcb72",
        "colab": {
          "base_uri": "https://localhost:8080/",
          "height": 69
        }
      },
      "source": [
        "# y_train['Class'].value_counts(normalize=True)\n",
        "y_train.value_counts(normalize=True)"
      ],
      "execution_count": 240,
      "outputs": [
        {
          "output_type": "execute_result",
          "data": {
            "text/plain": [
              "1.0    0.548414\n",
              "0.0    0.451586\n",
              "Name: Class, dtype: float64"
            ]
          },
          "metadata": {
            "tags": []
          },
          "execution_count": 240
        }
      ]
    },
    {
      "cell_type": "markdown",
      "metadata": {
        "id": "eiwCZNXstRwQ",
        "colab_type": "text"
      },
      "source": [
        "\n",
        "\n",
        "---\n",
        "\n"
      ]
    },
    {
      "cell_type": "markdown",
      "metadata": {
        "id": "Kg0m5aL6wWp4",
        "colab_type": "text"
      },
      "source": [
        "**Feature Importance - Random Forest**"
      ]
    },
    {
      "cell_type": "code",
      "metadata": {
        "id": "1_gyfc5AuvR0",
        "colab_type": "code",
        "outputId": "a90099ef-654b-41c3-b9be-b1e90001991b",
        "colab": {
          "base_uri": "https://localhost:8080/",
          "height": 34
        }
      },
      "source": [
        "#check\n",
        "np.any(np.isnan(y_train))"
      ],
      "execution_count": 241,
      "outputs": [
        {
          "output_type": "execute_result",
          "data": {
            "text/plain": [
              "False"
            ]
          },
          "metadata": {
            "tags": []
          },
          "execution_count": 241
        }
      ]
    },
    {
      "cell_type": "code",
      "metadata": {
        "id": "NmCfb77tqb84",
        "colab_type": "code",
        "colab": {}
      },
      "source": [
        "# #Import Random Forest Model\n",
        "# from sklearn.ensemble import RandomForestClassifier\n",
        "\n",
        "# #Create a Gaussian Classifier\n",
        "# clf=RandomForestClassifier(n_estimators=100)\n",
        "\n",
        "# #Train the model using the training sets y_pred=clf.predict(X_test)\n",
        "# clf.fit(X_train,y_train)\n",
        "\n",
        "# y_pred=clf.predict(X_test)"
      ],
      "execution_count": 0,
      "outputs": []
    },
    {
      "cell_type": "code",
      "metadata": {
        "id": "Z1euuv0GvRzj",
        "colab_type": "code",
        "colab": {}
      },
      "source": [
        "# RandomForestClassifier(bootstrap=True, class_weight=None, criterion='gini',\n",
        "#             max_depth=None, max_features='auto', max_leaf_nodes=None,\n",
        "#             min_impurity_decrease=0.0, min_impurity_split=None,\n",
        "#             min_samples_leaf=1, min_samples_split=2,\n",
        "#             min_weight_fraction_leaf=0.0, n_estimators=100, n_jobs=1,\n",
        "#             oob_score=False, random_state=None, verbose=0,\n",
        "#             warm_start=False)"
      ],
      "execution_count": 0,
      "outputs": []
    },
    {
      "cell_type": "code",
      "metadata": {
        "id": "Om9twOwMv7N-",
        "colab_type": "code",
        "colab": {}
      },
      "source": [
        "# feature_imp = pd.Series(clf.feature_importances_,index=X_train.columns).sort_values(ascending=False)\n",
        "# feature_imp\n",
        "# feature_imp[:20]\n"
      ],
      "execution_count": 0,
      "outputs": []
    },
    {
      "cell_type": "code",
      "metadata": {
        "id": "lTYpdIICwfq_",
        "colab_type": "code",
        "colab": {}
      },
      "source": [
        "# #Import scikit-learn metrics module for accuracy calculation\n",
        "# from sklearn import metrics\n",
        "# # Model Accuracy, how often is the classifier correct?\n",
        "# print(\"Accuracy:\",metrics.accuracy_score(y_test, y_pred))"
      ],
      "execution_count": 0,
      "outputs": []
    },
    {
      "cell_type": "markdown",
      "metadata": {
        "id": "Dq2kOEU0Wkir",
        "colab_type": "text"
      },
      "source": [
        "**Test for Stability**"
      ]
    },
    {
      "cell_type": "code",
      "metadata": {
        "id": "ZLFJHHewWn3r",
        "colab_type": "code",
        "colab": {}
      },
      "source": [
        "# features = pd.DataFrame()\n",
        "# i = 1\n",
        "# while i < 5:\n",
        "#   train = pd.read_csv('train_data.csv',index_col=0)\n",
        "#   test = pd.read_csv('test_data.csv',index_col=0)\n",
        "#   train = train[train.Sector != 'X1']\n",
        "#   train = train[train.Sector != 'TRUE']\n",
        "#   train = train.sample(frac=0.99)\n",
        "#   train = pd.get_dummies(train, columns=['Sector'])\n",
        "#   test = pd.get_dummies(test, columns=['Sector'])\n",
        "#   X_train = train.iloc[:-2].drop(['X1','PRICE_VAR','year','Class'],axis=1)\n",
        "#   X_test = test.iloc[:-2].drop(['X1','PRICE_VAR','year','Class'],axis=1)\n",
        "#   cols = X_train.select_dtypes(exclude=['float']).columns\n",
        "#   cols2 = X_test.select_dtypes(exclude=['float']).columns\n",
        "#   X_train[cols] = X_train[cols].apply(pd.to_numeric, downcast='float', errors='coerce')\n",
        "#   X_test[cols2] = X_test[cols2].apply(pd.to_numeric, downcast='float', errors='coerce')\n",
        "#   y_train = train.iloc[:-2][['Class']]\n",
        "#   y_test = test.iloc[:-2][['Class']]\n",
        "#   y_train['Class'] =y_train['Class'].apply(pd.to_numeric, downcast='float', errors='coerce')\n",
        "#   X_train.fillna(0, inplace=True)\n",
        "#   X_test.fillna(0, inplace=True)\n",
        "#   for col in X_train: \n",
        "#      X_train[col] = winsorize(X_train[col], limits=[0.05,0.05])\n",
        "#   #Create a Gaussian Classifier\n",
        "#   clf=RandomForestClassifier(n_estimators=100)\n",
        "#   #Train the model using the training sets y_pred=clf.predict(X_test)\n",
        "#   clf.fit(X_train,y_train)\n",
        "#   y_pred=clf.predict(X_test)\n",
        "#   feature_imp = pd.DataFrame( clf.feature_importances_,index=X_train.columns).sort_values( by = 0, ascending=False)\n",
        "#   features =  pd.concat([features, feature_imp], axis=1)\n",
        "#   i = i + 1"
      ],
      "execution_count": 0,
      "outputs": []
    },
    {
      "cell_type": "code",
      "metadata": {
        "id": "qpMgML8XgBBr",
        "colab_type": "code",
        "colab": {}
      },
      "source": [
        "from sklearn.preprocessing import StandardScaler\n",
        "features = pd.DataFrame()\n",
        "i = 1\n",
        "while i < 31:\n",
        "  X_train_fe, X_valid, y_train_fe, y_valid = train_test_split(X_train, y_train, test_size=0.10, random_state=0)\n",
        "  # calculate mean and standard deviation of train set\n",
        "  X_train_fe = StandardScaler().fit(X_train_fe).transform(X_train_fe) \n",
        "  X_valid = StandardScaler().fit(X_valid).transform(X_valid)  \n",
        "  #Create a Gaussian Classifier\n",
        "  clf=RandomForestClassifier(n_estimators=100)\n",
        "  #Train the model using the training sets y_pred=clf.predict(X_test)\n",
        "  clf.fit(X_train_fe,y_train_fe)\n",
        "  y_pred=clf.predict(X_valid)\n",
        "  feature_imp = pd.DataFrame( clf.feature_importances_,index=X_train.columns).sort_values( by = 0, ascending=False)\n",
        "  features =  pd.concat([features, feature_imp], axis=1)\n",
        "  i = i + 1"
      ],
      "execution_count": 0,
      "outputs": []
    },
    {
      "cell_type": "code",
      "metadata": {
        "id": "W3q1rAwrXFlL",
        "colab_type": "code",
        "colab": {
          "base_uri": "https://localhost:8080/",
          "height": 444
        },
        "outputId": "3e297587-9f90-4c57-cab3-bab0335db211"
      },
      "source": [
        "# print(features[0].index)\n",
        "# print(features[1].index)\n",
        "# print(features[2].index)\n",
        "features"
      ],
      "execution_count": 246,
      "outputs": [
        {
          "output_type": "execute_result",
          "data": {
            "text/html": [
              "<div>\n",
              "<style scoped>\n",
              "    .dataframe tbody tr th:only-of-type {\n",
              "        vertical-align: middle;\n",
              "    }\n",
              "\n",
              "    .dataframe tbody tr th {\n",
              "        vertical-align: top;\n",
              "    }\n",
              "\n",
              "    .dataframe thead th {\n",
              "        text-align: right;\n",
              "    }\n",
              "</style>\n",
              "<table border=\"1\" class=\"dataframe\">\n",
              "  <thead>\n",
              "    <tr style=\"text-align: right;\">\n",
              "      <th></th>\n",
              "      <th>0</th>\n",
              "      <th>0</th>\n",
              "      <th>0</th>\n",
              "      <th>0</th>\n",
              "      <th>0</th>\n",
              "      <th>0</th>\n",
              "      <th>0</th>\n",
              "      <th>0</th>\n",
              "      <th>0</th>\n",
              "      <th>0</th>\n",
              "      <th>0</th>\n",
              "      <th>0</th>\n",
              "      <th>0</th>\n",
              "      <th>0</th>\n",
              "      <th>0</th>\n",
              "      <th>0</th>\n",
              "      <th>0</th>\n",
              "      <th>0</th>\n",
              "      <th>0</th>\n",
              "      <th>0</th>\n",
              "      <th>0</th>\n",
              "      <th>0</th>\n",
              "      <th>0</th>\n",
              "      <th>0</th>\n",
              "      <th>0</th>\n",
              "      <th>0</th>\n",
              "      <th>0</th>\n",
              "      <th>0</th>\n",
              "      <th>0</th>\n",
              "      <th>0</th>\n",
              "    </tr>\n",
              "  </thead>\n",
              "  <tbody>\n",
              "    <tr>\n",
              "      <th>EPS_Diluted</th>\n",
              "      <td>0.008151</td>\n",
              "      <td>0.008132</td>\n",
              "      <td>0.007927</td>\n",
              "      <td>0.007162</td>\n",
              "      <td>0.007257</td>\n",
              "      <td>0.008188</td>\n",
              "      <td>0.006826</td>\n",
              "      <td>0.007722</td>\n",
              "      <td>0.008203</td>\n",
              "      <td>0.006844</td>\n",
              "      <td>0.007430</td>\n",
              "      <td>0.007603</td>\n",
              "      <td>0.006612</td>\n",
              "      <td>0.007635</td>\n",
              "      <td>0.008057</td>\n",
              "      <td>0.006941</td>\n",
              "      <td>0.007253</td>\n",
              "      <td>0.007662</td>\n",
              "      <td>0.007161</td>\n",
              "      <td>0.007374</td>\n",
              "      <td>0.007688</td>\n",
              "      <td>0.007162</td>\n",
              "      <td>0.008502</td>\n",
              "      <td>0.006569</td>\n",
              "      <td>0.007790</td>\n",
              "      <td>0.006632</td>\n",
              "      <td>0.007620</td>\n",
              "      <td>0.007610</td>\n",
              "      <td>0.007159</td>\n",
              "      <td>0.007294</td>\n",
              "    </tr>\n",
              "    <tr>\n",
              "      <th>Book_Value_per_Share_Growth</th>\n",
              "      <td>0.007433</td>\n",
              "      <td>0.007166</td>\n",
              "      <td>0.007700</td>\n",
              "      <td>0.007246</td>\n",
              "      <td>0.007226</td>\n",
              "      <td>0.007219</td>\n",
              "      <td>0.007007</td>\n",
              "      <td>0.007331</td>\n",
              "      <td>0.007515</td>\n",
              "      <td>0.006926</td>\n",
              "      <td>0.006998</td>\n",
              "      <td>0.007369</td>\n",
              "      <td>0.007245</td>\n",
              "      <td>0.007264</td>\n",
              "      <td>0.006955</td>\n",
              "      <td>0.007639</td>\n",
              "      <td>0.006746</td>\n",
              "      <td>0.006657</td>\n",
              "      <td>0.007793</td>\n",
              "      <td>0.006905</td>\n",
              "      <td>0.007091</td>\n",
              "      <td>0.007820</td>\n",
              "      <td>0.007041</td>\n",
              "      <td>0.007023</td>\n",
              "      <td>0.006559</td>\n",
              "      <td>0.007266</td>\n",
              "      <td>0.007384</td>\n",
              "      <td>0.007342</td>\n",
              "      <td>0.006928</td>\n",
              "      <td>0.007146</td>\n",
              "    </tr>\n",
              "    <tr>\n",
              "      <th>Effect_of_forex_changes_on_cash</th>\n",
              "      <td>0.007351</td>\n",
              "      <td>0.007338</td>\n",
              "      <td>0.007630</td>\n",
              "      <td>0.007649</td>\n",
              "      <td>0.007509</td>\n",
              "      <td>0.007734</td>\n",
              "      <td>0.007753</td>\n",
              "      <td>0.007525</td>\n",
              "      <td>0.007536</td>\n",
              "      <td>0.007819</td>\n",
              "      <td>0.007946</td>\n",
              "      <td>0.007780</td>\n",
              "      <td>0.007450</td>\n",
              "      <td>0.007361</td>\n",
              "      <td>0.007223</td>\n",
              "      <td>0.007832</td>\n",
              "      <td>0.007823</td>\n",
              "      <td>0.007008</td>\n",
              "      <td>0.007369</td>\n",
              "      <td>0.007294</td>\n",
              "      <td>0.007667</td>\n",
              "      <td>0.007361</td>\n",
              "      <td>0.007519</td>\n",
              "      <td>0.007813</td>\n",
              "      <td>0.007313</td>\n",
              "      <td>0.007667</td>\n",
              "      <td>0.006980</td>\n",
              "      <td>0.007846</td>\n",
              "      <td>0.007403</td>\n",
              "      <td>0.007586</td>\n",
              "    </tr>\n",
              "    <tr>\n",
              "      <th>EPS</th>\n",
              "      <td>0.007347</td>\n",
              "      <td>0.007708</td>\n",
              "      <td>0.007959</td>\n",
              "      <td>0.007490</td>\n",
              "      <td>0.007017</td>\n",
              "      <td>0.006809</td>\n",
              "      <td>0.007416</td>\n",
              "      <td>0.007908</td>\n",
              "      <td>0.007102</td>\n",
              "      <td>0.007769</td>\n",
              "      <td>0.007157</td>\n",
              "      <td>0.007777</td>\n",
              "      <td>0.006967</td>\n",
              "      <td>0.008221</td>\n",
              "      <td>0.007896</td>\n",
              "      <td>0.008149</td>\n",
              "      <td>0.007249</td>\n",
              "      <td>0.007462</td>\n",
              "      <td>0.007466</td>\n",
              "      <td>0.007217</td>\n",
              "      <td>0.007787</td>\n",
              "      <td>0.007691</td>\n",
              "      <td>0.007572</td>\n",
              "      <td>0.007411</td>\n",
              "      <td>0.007192</td>\n",
              "      <td>0.006947</td>\n",
              "      <td>0.006965</td>\n",
              "      <td>0.007595</td>\n",
              "      <td>0.007306</td>\n",
              "      <td>0.007510</td>\n",
              "    </tr>\n",
              "    <tr>\n",
              "      <th>Earnings_Yield</th>\n",
              "      <td>0.007341</td>\n",
              "      <td>0.006788</td>\n",
              "      <td>0.009157</td>\n",
              "      <td>0.006798</td>\n",
              "      <td>0.007388</td>\n",
              "      <td>0.008264</td>\n",
              "      <td>0.007411</td>\n",
              "      <td>0.007409</td>\n",
              "      <td>0.007555</td>\n",
              "      <td>0.007098</td>\n",
              "      <td>0.007388</td>\n",
              "      <td>0.006022</td>\n",
              "      <td>0.006934</td>\n",
              "      <td>0.007426</td>\n",
              "      <td>0.007059</td>\n",
              "      <td>0.007763</td>\n",
              "      <td>0.008229</td>\n",
              "      <td>0.007767</td>\n",
              "      <td>0.006954</td>\n",
              "      <td>0.007986</td>\n",
              "      <td>0.007473</td>\n",
              "      <td>0.008507</td>\n",
              "      <td>0.006441</td>\n",
              "      <td>0.007582</td>\n",
              "      <td>0.008073</td>\n",
              "      <td>0.007521</td>\n",
              "      <td>0.007460</td>\n",
              "      <td>0.006579</td>\n",
              "      <td>0.007572</td>\n",
              "      <td>0.007215</td>\n",
              "    </tr>\n",
              "    <tr>\n",
              "      <th>...</th>\n",
              "      <td>...</td>\n",
              "      <td>...</td>\n",
              "      <td>...</td>\n",
              "      <td>...</td>\n",
              "      <td>...</td>\n",
              "      <td>...</td>\n",
              "      <td>...</td>\n",
              "      <td>...</td>\n",
              "      <td>...</td>\n",
              "      <td>...</td>\n",
              "      <td>...</td>\n",
              "      <td>...</td>\n",
              "      <td>...</td>\n",
              "      <td>...</td>\n",
              "      <td>...</td>\n",
              "      <td>...</td>\n",
              "      <td>...</td>\n",
              "      <td>...</td>\n",
              "      <td>...</td>\n",
              "      <td>...</td>\n",
              "      <td>...</td>\n",
              "      <td>...</td>\n",
              "      <td>...</td>\n",
              "      <td>...</td>\n",
              "      <td>...</td>\n",
              "      <td>...</td>\n",
              "      <td>...</td>\n",
              "      <td>...</td>\n",
              "      <td>...</td>\n",
              "      <td>...</td>\n",
              "    </tr>\n",
              "    <tr>\n",
              "      <th>operatingCycle</th>\n",
              "      <td>0.000000</td>\n",
              "      <td>0.000000</td>\n",
              "      <td>0.000000</td>\n",
              "      <td>0.000000</td>\n",
              "      <td>0.000000</td>\n",
              "      <td>0.000000</td>\n",
              "      <td>0.000000</td>\n",
              "      <td>0.000000</td>\n",
              "      <td>0.000000</td>\n",
              "      <td>0.000000</td>\n",
              "      <td>0.000000</td>\n",
              "      <td>0.000000</td>\n",
              "      <td>0.000000</td>\n",
              "      <td>0.000000</td>\n",
              "      <td>0.000000</td>\n",
              "      <td>0.000000</td>\n",
              "      <td>0.000000</td>\n",
              "      <td>0.000000</td>\n",
              "      <td>0.000000</td>\n",
              "      <td>0.000000</td>\n",
              "      <td>0.000000</td>\n",
              "      <td>0.000000</td>\n",
              "      <td>0.000000</td>\n",
              "      <td>0.000000</td>\n",
              "      <td>0.000000</td>\n",
              "      <td>0.000000</td>\n",
              "      <td>0.000000</td>\n",
              "      <td>0.000000</td>\n",
              "      <td>0.000000</td>\n",
              "      <td>0.000000</td>\n",
              "    </tr>\n",
              "    <tr>\n",
              "      <th>cashConversionCycle</th>\n",
              "      <td>0.000000</td>\n",
              "      <td>0.000000</td>\n",
              "      <td>0.000000</td>\n",
              "      <td>0.000000</td>\n",
              "      <td>0.000000</td>\n",
              "      <td>0.000000</td>\n",
              "      <td>0.000000</td>\n",
              "      <td>0.000000</td>\n",
              "      <td>0.000000</td>\n",
              "      <td>0.000000</td>\n",
              "      <td>0.000000</td>\n",
              "      <td>0.000000</td>\n",
              "      <td>0.000000</td>\n",
              "      <td>0.000000</td>\n",
              "      <td>0.000000</td>\n",
              "      <td>0.000000</td>\n",
              "      <td>0.000000</td>\n",
              "      <td>0.000000</td>\n",
              "      <td>0.000000</td>\n",
              "      <td>0.000000</td>\n",
              "      <td>0.000000</td>\n",
              "      <td>0.000000</td>\n",
              "      <td>0.000000</td>\n",
              "      <td>0.000000</td>\n",
              "      <td>0.000000</td>\n",
              "      <td>0.000000</td>\n",
              "      <td>0.000000</td>\n",
              "      <td>0.000000</td>\n",
              "      <td>0.000000</td>\n",
              "      <td>0.000000</td>\n",
              "    </tr>\n",
              "    <tr>\n",
              "      <th>Sector_Communication Services</th>\n",
              "      <td>0.000000</td>\n",
              "      <td>0.000000</td>\n",
              "      <td>0.000000</td>\n",
              "      <td>0.000000</td>\n",
              "      <td>0.000000</td>\n",
              "      <td>0.000000</td>\n",
              "      <td>0.000000</td>\n",
              "      <td>0.000000</td>\n",
              "      <td>0.000000</td>\n",
              "      <td>0.000000</td>\n",
              "      <td>0.000000</td>\n",
              "      <td>0.000000</td>\n",
              "      <td>0.000000</td>\n",
              "      <td>0.000000</td>\n",
              "      <td>0.000000</td>\n",
              "      <td>0.000000</td>\n",
              "      <td>0.000000</td>\n",
              "      <td>0.000000</td>\n",
              "      <td>0.000000</td>\n",
              "      <td>0.000000</td>\n",
              "      <td>0.000000</td>\n",
              "      <td>0.000000</td>\n",
              "      <td>0.000000</td>\n",
              "      <td>0.000000</td>\n",
              "      <td>0.000000</td>\n",
              "      <td>0.000000</td>\n",
              "      <td>0.000000</td>\n",
              "      <td>0.000000</td>\n",
              "      <td>0.000000</td>\n",
              "      <td>0.000000</td>\n",
              "    </tr>\n",
              "    <tr>\n",
              "      <th>Sector_Consumer Defensive</th>\n",
              "      <td>0.000000</td>\n",
              "      <td>0.000000</td>\n",
              "      <td>0.000000</td>\n",
              "      <td>0.000000</td>\n",
              "      <td>0.000000</td>\n",
              "      <td>0.000000</td>\n",
              "      <td>0.000000</td>\n",
              "      <td>0.000000</td>\n",
              "      <td>0.000000</td>\n",
              "      <td>0.000000</td>\n",
              "      <td>0.000000</td>\n",
              "      <td>0.000000</td>\n",
              "      <td>0.000000</td>\n",
              "      <td>0.000000</td>\n",
              "      <td>0.000000</td>\n",
              "      <td>0.000000</td>\n",
              "      <td>0.000000</td>\n",
              "      <td>0.000000</td>\n",
              "      <td>0.000000</td>\n",
              "      <td>0.000000</td>\n",
              "      <td>0.000000</td>\n",
              "      <td>0.000000</td>\n",
              "      <td>0.000000</td>\n",
              "      <td>0.000000</td>\n",
              "      <td>0.000000</td>\n",
              "      <td>0.000000</td>\n",
              "      <td>0.000000</td>\n",
              "      <td>0.000000</td>\n",
              "      <td>0.000000</td>\n",
              "      <td>0.000000</td>\n",
              "    </tr>\n",
              "    <tr>\n",
              "      <th>Sector_Utilities</th>\n",
              "      <td>0.000000</td>\n",
              "      <td>0.000000</td>\n",
              "      <td>0.000000</td>\n",
              "      <td>0.000000</td>\n",
              "      <td>0.000000</td>\n",
              "      <td>0.000000</td>\n",
              "      <td>0.000000</td>\n",
              "      <td>0.000000</td>\n",
              "      <td>0.000000</td>\n",
              "      <td>0.000000</td>\n",
              "      <td>0.000000</td>\n",
              "      <td>0.000000</td>\n",
              "      <td>0.000000</td>\n",
              "      <td>0.000000</td>\n",
              "      <td>0.000000</td>\n",
              "      <td>0.000000</td>\n",
              "      <td>0.000000</td>\n",
              "      <td>0.000000</td>\n",
              "      <td>0.000000</td>\n",
              "      <td>0.000000</td>\n",
              "      <td>0.000000</td>\n",
              "      <td>0.000000</td>\n",
              "      <td>0.000000</td>\n",
              "      <td>0.000000</td>\n",
              "      <td>0.000000</td>\n",
              "      <td>0.000000</td>\n",
              "      <td>0.000000</td>\n",
              "      <td>0.000000</td>\n",
              "      <td>0.000000</td>\n",
              "      <td>0.000000</td>\n",
              "    </tr>\n",
              "  </tbody>\n",
              "</table>\n",
              "<p>232 rows × 30 columns</p>\n",
              "</div>"
            ],
            "text/plain": [
              "                                        0         0  ...         0         0\n",
              "EPS_Diluted                      0.008151  0.008132  ...  0.007159  0.007294\n",
              "Book_Value_per_Share_Growth      0.007433  0.007166  ...  0.006928  0.007146\n",
              "Effect_of_forex_changes_on_cash  0.007351  0.007338  ...  0.007403  0.007586\n",
              "EPS                              0.007347  0.007708  ...  0.007306  0.007510\n",
              "Earnings_Yield                   0.007341  0.006788  ...  0.007572  0.007215\n",
              "...                                   ...       ...  ...       ...       ...\n",
              "operatingCycle                   0.000000  0.000000  ...  0.000000  0.000000\n",
              "cashConversionCycle              0.000000  0.000000  ...  0.000000  0.000000\n",
              "Sector_Communication Services    0.000000  0.000000  ...  0.000000  0.000000\n",
              "Sector_Consumer Defensive        0.000000  0.000000  ...  0.000000  0.000000\n",
              "Sector_Utilities                 0.000000  0.000000  ...  0.000000  0.000000\n",
              "\n",
              "[232 rows x 30 columns]"
            ]
          },
          "metadata": {
            "tags": []
          },
          "execution_count": 246
        }
      ]
    },
    {
      "cell_type": "code",
      "metadata": {
        "id": "ep-tysOH40vc",
        "colab_type": "code",
        "colab": {}
      },
      "source": [
        "# Initialize an empty array to hold feature importances\n",
        "features_imp = features.mean(axis=1)"
      ],
      "execution_count": 0,
      "outputs": []
    },
    {
      "cell_type": "code",
      "metadata": {
        "id": "73CwFhuvmBR4",
        "colab_type": "code",
        "colab": {
          "base_uri": "https://localhost:8080/",
          "height": 382
        },
        "outputId": "343b9f05-d141-4893-b169-a5c9850fb4d1"
      },
      "source": [
        "features_imp.sort_values(ascending=False)[:20]"
      ],
      "execution_count": 248,
      "outputs": [
        {
          "output_type": "execute_result",
          "data": {
            "text/plain": [
              "Effect_of_forex_changes_on_cash           0.007536\n",
              "EPS_Diluted                               0.007472\n",
              "EPS                                       0.007469\n",
              "Earnings_Yield                            0.007439\n",
              "Book_Value_per_Share_Growth               0.007198\n",
              "Net_cash_flow_/_Change_in_cash            0.007018\n",
              "Weighted_Average_Shs_Out                  0.006890\n",
              "Financing_Cash_Flow                       0.006863\n",
              "Gross_Profit_Growth                       0.006810\n",
              "Revenue_Growth                            0.006789\n",
              "Operating_Cash_Flow_growth                0.006704\n",
              "Net_Income_per_Share                      0.006669\n",
              "Weighted_Average_Shares_Diluted_Growth    0.006624\n",
              "Asset_Growth                              0.006593\n",
              "SG&A_Expenses_Growth                      0.006402\n",
              "Receivables_growth                        0.006324\n",
              "Weighted_Average_Shs_Out_(Dil)            0.006303\n",
              "Weighted_Average_Shares_Growth            0.006272\n",
              "Retained_earnings_(deficit)               0.006269\n",
              "Cash_and_cash_equivalents                 0.006226\n",
              "dtype: float64"
            ]
          },
          "metadata": {
            "tags": []
          },
          "execution_count": 248
        }
      ]
    },
    {
      "cell_type": "code",
      "metadata": {
        "id": "U8qITBr8j7H5",
        "colab_type": "code",
        "colab": {
          "base_uri": "https://localhost:8080/",
          "height": 312
        },
        "outputId": "52c1443d-62cd-4c47-8d91-a292a00bf002"
      },
      "source": [
        "import matplotlib.pyplot as plt\n",
        "import seaborn as sns\n",
        "%matplotlib inline\n",
        "# Creating a bar plot\n",
        "sns.barplot(x=features_imp.sort_values(ascending=False)[:20], y=features_imp.sort_values(ascending=False)[:20].index,palette = 'Blues')\n",
        "# Add labels to your graph\n",
        "plt.xlabel('Feature Importance Score')\n",
        "plt.ylabel('Features')\n",
        "plt.title(\"Important Features\")\n",
        "plt.legend()\n",
        "# plt.savefig('FE_Plot_RandomForest.png',dpi=300,bbox_inches=\"tight\")\n",
        "plt.show()\n"
      ],
      "execution_count": 303,
      "outputs": [
        {
          "output_type": "stream",
          "text": [
            "No handles with labels found to put in legend.\n"
          ],
          "name": "stderr"
        },
        {
          "output_type": "display_data",
          "data": {
            "image/png": "[encoded data removed]",
            "text/plain": [
              "<Figure size 432x288 with 1 Axes>"
            ]
          },
          "metadata": {
            "tags": [],
            "needs_background": "light"
          }
        }
      ]
    },
    {
      "cell_type": "code",
      "metadata": {
        "id": "dhGsDn0sDEw1",
        "colab_type": "code",
        "colab": {
          "base_uri": "https://localhost:8080/",
          "height": 424
        },
        "outputId": "ee485cbc-ad7f-41f0-e1e3-84436317086c"
      },
      "source": [
        "# features['cumulative_importance'] = \n",
        "\n",
        "features_cum_plot = np.cumsum(features_imp)\n",
        "features_cum_plot = pd.DataFrame(features_cum_plot)\n",
        "features_cum_plot"
      ],
      "execution_count": 278,
      "outputs": [
        {
          "output_type": "execute_result",
          "data": {
            "text/html": [
              "<div>\n",
              "<style scoped>\n",
              "    .dataframe tbody tr th:only-of-type {\n",
              "        vertical-align: middle;\n",
              "    }\n",
              "\n",
              "    .dataframe tbody tr th {\n",
              "        vertical-align: top;\n",
              "    }\n",
              "\n",
              "    .dataframe thead th {\n",
              "        text-align: right;\n",
              "    }\n",
              "</style>\n",
              "<table border=\"1\" class=\"dataframe\">\n",
              "  <thead>\n",
              "    <tr style=\"text-align: right;\">\n",
              "      <th></th>\n",
              "      <th>0</th>\n",
              "    </tr>\n",
              "  </thead>\n",
              "  <tbody>\n",
              "    <tr>\n",
              "      <th>EPS_Diluted</th>\n",
              "      <td>0.007472</td>\n",
              "    </tr>\n",
              "    <tr>\n",
              "      <th>Book_Value_per_Share_Growth</th>\n",
              "      <td>0.014670</td>\n",
              "    </tr>\n",
              "    <tr>\n",
              "      <th>Effect_of_forex_changes_on_cash</th>\n",
              "      <td>0.022206</td>\n",
              "    </tr>\n",
              "    <tr>\n",
              "      <th>EPS</th>\n",
              "      <td>0.029675</td>\n",
              "    </tr>\n",
              "    <tr>\n",
              "      <th>Earnings_Yield</th>\n",
              "      <td>0.037114</td>\n",
              "    </tr>\n",
              "    <tr>\n",
              "      <th>...</th>\n",
              "      <td>...</td>\n",
              "    </tr>\n",
              "    <tr>\n",
              "      <th>operatingCycle</th>\n",
              "      <td>1.000000</td>\n",
              "    </tr>\n",
              "    <tr>\n",
              "      <th>cashConversionCycle</th>\n",
              "      <td>1.000000</td>\n",
              "    </tr>\n",
              "    <tr>\n",
              "      <th>Sector_Communication Services</th>\n",
              "      <td>1.000000</td>\n",
              "    </tr>\n",
              "    <tr>\n",
              "      <th>Sector_Consumer Defensive</th>\n",
              "      <td>1.000000</td>\n",
              "    </tr>\n",
              "    <tr>\n",
              "      <th>Sector_Utilities</th>\n",
              "      <td>1.000000</td>\n",
              "    </tr>\n",
              "  </tbody>\n",
              "</table>\n",
              "<p>232 rows × 1 columns</p>\n",
              "</div>"
            ],
            "text/plain": [
              "                                        0\n",
              "EPS_Diluted                      0.007472\n",
              "Book_Value_per_Share_Growth      0.014670\n",
              "Effect_of_forex_changes_on_cash  0.022206\n",
              "EPS                              0.029675\n",
              "Earnings_Yield                   0.037114\n",
              "...                                   ...\n",
              "operatingCycle                   1.000000\n",
              "cashConversionCycle              1.000000\n",
              "Sector_Communication Services    1.000000\n",
              "Sector_Consumer Defensive        1.000000\n",
              "Sector_Utilities                 1.000000\n",
              "\n",
              "[232 rows x 1 columns]"
            ]
          },
          "metadata": {
            "tags": []
          },
          "execution_count": 278
        }
      ]
    },
    {
      "cell_type": "code",
      "metadata": {
        "id": "pt7lRwJlRGNs",
        "colab_type": "code",
        "colab": {
          "base_uri": "https://localhost:8080/",
          "height": 34
        },
        "outputId": "a7722991-7503-4cc7-d2fa-4346dc790404"
      },
      "source": [
        "# 51 features required for 0.90 of cumulative importance\n",
        "len(features_cum_plot[(features_cum_plot > 0.90).all(1)])\n"
      ],
      "execution_count": 291,
      "outputs": [
        {
          "output_type": "execute_result",
          "data": {
            "text/plain": [
              "51"
            ]
          },
          "metadata": {
            "tags": []
          },
          "execution_count": 291
        }
      ]
    },
    {
      "cell_type": "code",
      "metadata": {
        "id": "2y_J6PunCpiS",
        "colab_type": "code",
        "colab": {
          "base_uri": "https://localhost:8080/",
          "height": 404
        },
        "outputId": "c8dbadf4-c691-4964-b052-9c06700b9e50"
      },
      "source": [
        "# Cumulative importance plot\n",
        "    plt.figure(figsize = (8, 6))\n",
        "    plt.plot(list(range(len(features_cum_plot))), features_cum_plot, 'r-')\n",
        "    plt.xlabel('Number of Features'); plt.ylabel('Cumulative Importance'); \n",
        "    plt.title('Cumulative Feature Importance');\n",
        "    # plt.savefig('FE__cum_importance_RandomForest.jpg',dpi=300,bbox_inches=\"tight\");\n",
        "    plt.show();\n",
        "\n",
        "    "
      ],
      "execution_count": 302,
      "outputs": [
        {
          "output_type": "display_data",
          "data": {
            "image/png": "[encoded data removed]",
            "text/plain": [
              "<Figure size 576x432 with 1 Axes>"
            ]
          },
          "metadata": {
            "tags": [],
            "needs_background": "light"
          }
        }
      ]
    },
    {
      "cell_type": "code",
      "metadata": {
        "id": "ep19x2eAWjSB",
        "colab_type": "code",
        "colab": {
          "base_uri": "https://localhost:8080/",
          "height": 191
        },
        "outputId": "c992e04d-4a05-43fe-8c83-747c624bd480"
      },
      "source": [
        "features_imp.sort_values(ascending=False)[:20].index"
      ],
      "execution_count": 304,
      "outputs": [
        {
          "output_type": "execute_result",
          "data": {
            "text/plain": [
              "Index(['Effect_of_forex_changes_on_cash', 'EPS_Diluted', 'EPS',\n",
              "       'Earnings_Yield', 'Book_Value_per_Share_Growth',\n",
              "       'Net_cash_flow_/_Change_in_cash', 'Weighted_Average_Shs_Out',\n",
              "       'Financing_Cash_Flow', 'Gross_Profit_Growth', 'Revenue_Growth',\n",
              "       'Operating_Cash_Flow_growth', 'Net_Income_per_Share',\n",
              "       'Weighted_Average_Shares_Diluted_Growth', 'Asset_Growth',\n",
              "       'SG&A_Expenses_Growth', 'Receivables_growth',\n",
              "       'Weighted_Average_Shs_Out_(Dil)', 'Weighted_Average_Shares_Growth',\n",
              "       'Retained_earnings_(deficit)', 'Cash_and_cash_equivalents'],\n",
              "      dtype='object')"
            ]
          },
          "metadata": {
            "tags": []
          },
          "execution_count": 304
        }
      ]
    },
    {
      "cell_type": "code",
      "metadata": {
        "id": "rp-978BoWn0l",
        "colab_type": "code",
        "colab": {
          "base_uri": "https://localhost:8080/",
          "height": 382
        },
        "outputId": "bc850d93-bf3a-41f6-ef7a-9751a12386c3"
      },
      "source": [
        "features_imp.sort_values(ascending=False)[:51].index"
      ],
      "execution_count": 305,
      "outputs": [
        {
          "output_type": "execute_result",
          "data": {
            "text/plain": [
              "Index(['Effect_of_forex_changes_on_cash', 'EPS_Diluted', 'EPS',\n",
              "       'Earnings_Yield', 'Book_Value_per_Share_Growth',\n",
              "       'Net_cash_flow_/_Change_in_cash', 'Weighted_Average_Shs_Out',\n",
              "       'Financing_Cash_Flow', 'Gross_Profit_Growth', 'Revenue_Growth',\n",
              "       'Operating_Cash_Flow_growth', 'Net_Income_per_Share',\n",
              "       'Weighted_Average_Shares_Diluted_Growth', 'Asset_Growth',\n",
              "       'SG&A_Expenses_Growth', 'Receivables_growth',\n",
              "       'Weighted_Average_Shs_Out_(Dil)', 'Weighted_Average_Shares_Growth',\n",
              "       'Retained_earnings_(deficit)', 'Cash_and_cash_equivalents',\n",
              "       'Operating_Income_Growth', 'EPS_Diluted_Growth',\n",
              "       'Earnings_Before_Tax_Margin', 'EPS_Growth', 'Free_Cash_Flow_growth',\n",
              "       'Issuance_(buybacks)_of_shares', 'Net_Income_Com', 'Net_Income',\n",
              "       'Total_assets', 'Investing_Cash_flow', 'Earnings_before_Tax',\n",
              "       'Operating_Cash_Flow', 'Consolidated_Income', 'EBIT',\n",
              "       'Net_Income_Growth', 'Operating_Income', 'SG&A_Expense',\n",
              "       'Other_Liabilities', 'Cash_and_short-term_investments', 'Gross_Margin',\n",
              "       'operatingCashFlowPerShare', 'Operating_Cash_Flow_per_Share',\n",
              "       'Income_Tax_Expense', 'cashPerShare', 'Total_liabilities',\n",
              "       'Cash_per_Share', 'companyEquityMultiplier', 'EBIT_Growth',\n",
              "       'dividendpaidAndCapexCoverageRatios', 'Profit_Margin', 'cashRatio'],\n",
              "      dtype='object')"
            ]
          },
          "metadata": {
            "tags": []
          },
          "execution_count": 305
        }
      ]
    },
    {
      "cell_type": "markdown",
      "metadata": {
        "id": "9qONf8jmZe5j",
        "colab_type": "text"
      },
      "source": [
        "**Save df**"
      ]
    },
    {
      "cell_type": "code",
      "metadata": {
        "id": "sgLimA5vZhjG",
        "colab_type": "code",
        "colab": {}
      },
      "source": [
        "selected_features = features_imp.sort_values(ascending=False)[:20].index\n",
        "train_20 = X_train[selected_features]\n",
        "test_20 = X_test[selected_features]"
      ],
      "execution_count": 0,
      "outputs": []
    },
    {
      "cell_type": "code",
      "metadata": {
        "id": "e5YtJQX7Zz-X",
        "colab_type": "code",
        "colab": {}
      },
      "source": [
        "selected_features = features_imp.sort_values(ascending=False)[:51].index\n",
        "train_51 = X_train[selected_features]\n",
        "test_51 = X_test[selected_features]"
      ],
      "execution_count": 0,
      "outputs": []
    },
    {
      "cell_type": "code",
      "metadata": {
        "id": "REpIaoWKaNwL",
        "colab_type": "code",
        "colab": {}
      },
      "source": [
        "train_20.to_csv(\"train_20.csv\")\n",
        "test_20.to_csv(\"test_20.csv\")\n",
        "\n",
        "train_51.to_csv(\"train_51.csv\")\n",
        "test_51.to_csv(\"test_51.csv\")"
      ],
      "execution_count": 0,
      "outputs": []
    },
    {
      "cell_type": "code",
      "metadata": {
        "id": "RRRW3evmasM4",
        "colab_type": "code",
        "colab": {}
      },
      "source": [
        "y_train.to_csv(\"y_train.csv\")\n",
        "y_test.to_csv(\"y_test.csv\")"
      ],
      "execution_count": 0,
      "outputs": []
    },
    {
      "cell_type": "code",
      "metadata": {
        "id": "FBWUY2yNgIAw",
        "colab_type": "code",
        "colab": {}
      },
      "source": [
        "# sns.heatmap(X_train.corr(),annot=True,cmap='RdYlGn',linewidths=0.2) #data.corr()-->correlation matrix\n",
        "# fig=plt.gcf()\n",
        "# fig.set_size_inches(10,8)\n",
        "# plt.show()"
      ],
      "execution_count": 0,
      "outputs": []
    },
    {
      "cell_type": "code",
      "metadata": {
        "id": "f-SY7pUDh9_m",
        "colab_type": "code",
        "colab": {}
      },
      "source": [
        "#sns.pairplot(X, hue=\"Class\")"
      ],
      "execution_count": 0,
      "outputs": []
    }
  ]
}