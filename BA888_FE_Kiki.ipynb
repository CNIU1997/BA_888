{
  "nbformat": 4,
  "nbformat_minor": 0,
  "metadata": {
    "colab": {
      "name": "BA888_FE_Kiki.ipynb",
      "provenance": [],
      "authorship_tag": "ABX9TyM9wOBkS3mo6RjvgQZ49Z1h",
      "include_colab_link": true
    },
    "kernelspec": {
      "name": "python3",
      "display_name": "Python 3"
    }
  },
  "cells": [
    {
      "cell_type": "markdown",
      "metadata": {
        "id": "view-in-github",
        "colab_type": "text"
      },
      "source": [
        "<a href=\"https://colab.research.google.com/github/CNIU1997/BA_888/blob/master/BA888_FE_Kiki.ipynb\" target=\"_parent\"><img src=\"https://colab.research.google.com/assets/colab-badge.svg\" alt=\"Open In Colab\"/></a>"
      ]
    },
    {
      "cell_type": "code",
      "metadata": {
        "id": "5PbJN02KmluG",
        "colab_type": "code",
        "colab": {}
      },
      "source": [
        "## upload files and import library\n",
        "from google.colab import files\n",
        "#uploaded = files.upload()\n",
        "\n",
        "import pandas as pd\n",
        "import numpy as np"
      ],
      "execution_count": 0,
      "outputs": []
    },
    {
      "cell_type": "markdown",
      "metadata": {
        "id": "j9QvnDABn5pN",
        "colab_type": "text"
      },
      "source": [
        " **Import Dataset**"
      ]
    },
    {
      "cell_type": "code",
      "metadata": {
        "id": "zrU0pfcjqupi",
        "colab_type": "code",
        "outputId": "fa7b5f7f-4553-4eaa-b9e5-446eea45292d",
        "colab": {
          "base_uri": "https://localhost:8080/",
          "height": 72
        }
      },
      "source": [
        "train = pd.read_csv('train_data.csv',index_col=0)\n",
        "test = pd.read_csv('test_data.csv',index_col=0)"
      ],
      "execution_count": 0,
      "outputs": [
        {
          "output_type": "stream",
          "text": [
            "/usr/local/lib/python3.6/dist-packages/IPython/core/interactiveshell.py:2718: DtypeWarning: Columns (2,3,4,5,6,7,8,9,10,11,12,13,14,15,16,17,18,19,20,21,22,23,24,25,26,27,28,29,30,31,32,33,34,35,36,37,38,39,40,41,42,43,44,45,46,47,48,49,50,51,52,53,54,55,56,57,58,59,60,61,62,63,64,65,66,67,68,69,70,71,72,73,74,75,76,77,78,79,80,81,82,83,84,85,86,87,88,89,90,91,92,93,94,95,96,97,98,99,100,101,102,103,104,105,106,107,108,109,110,111,112,113,114,115,116,117,118,119,120,121,122,123,124,125,126,127,128,129,130,131,132,133,134,135,136,137,138,139,140,141,142,143,144,145,146,147,148,149,150,151,152,153,154,155,156,157,158,159,160,161,162,163,164,165,166,167,168,169,170,171,172,173,174,175,176,177,178,179,180,181,182,183,184,185,186,187,188,189,190,191,192,193,194,195,196,197,198,199,200,201,202,203,204,205,206,207,208,209,210,211,212,213,214,215,216,217,218,219,220,221,222,224,225,226) have mixed types.Specify dtype option on import or set low_memory=False.\n",
            "  interactivity=interactivity, compiler=compiler, result=result)\n"
          ],
          "name": "stderr"
        }
      ]
    },
    {
      "cell_type": "code",
      "metadata": {
        "id": "27aU_olfh7ht",
        "colab_type": "code",
        "colab": {}
      },
      "source": [
        "X_train = train.iloc[:-2].drop(['X1','PRICE_VAR','year','Class'],axis=1)\n",
        "X_test = test.iloc[:-2].drop(['X1','PRICE_VAR','year','Class'],axis=1)\n",
        "#X_train = pd.get_dummies(train, columns=['Sector'])\n",
        "cols = X_train.select_dtypes(exclude=['float']).columns\n",
        "cols2 = X_test.select_dtypes(exclude=['float']).columns\n",
        "X_train[cols] = X_train[cols].apply(pd.to_numeric, downcast='float', errors='coerce')\n",
        "X_test[cols2] = X_test[cols2].apply(pd.to_numeric, downcast='float', errors='coerce')\n",
        "\n",
        "y_train = train.iloc[:-2][['Class']]\n",
        "y_test = test.iloc[:-2][['Class']]"
      ],
      "execution_count": 0,
      "outputs": []
    },
    {
      "cell_type": "code",
      "metadata": {
        "id": "_M_WoTdpoAp-",
        "colab_type": "code",
        "colab": {}
      },
      "source": [
        "y_train['Class'] =y_train['Class'].apply(pd.to_numeric, downcast='float', errors='coerce')"
      ],
      "execution_count": 0,
      "outputs": []
    },
    {
      "cell_type": "code",
      "metadata": {
        "id": "WO6nlBheqiGG",
        "colab_type": "code",
        "colab": {}
      },
      "source": [
        "X_train.fillna(0, inplace=True)\n",
        "X_test.fillna(0, inplace=True)"
      ],
      "execution_count": 0,
      "outputs": []
    },
    {
      "cell_type": "code",
      "metadata": {
        "id": "6OMGhzgcrB24",
        "colab_type": "code",
        "outputId": "1cd88456-2dc0-43d0-fb4e-557ec2ef2031",
        "colab": {
          "base_uri": "https://localhost:8080/",
          "height": 143
        }
      },
      "source": [
        "##check na in y\n",
        "y_train[pd.isnull(y_train).any(axis=1)]"
      ],
      "execution_count": 0,
      "outputs": [
        {
          "output_type": "execute_result",
          "data": {
            "text/html": [
              "<div>\n",
              "<style scoped>\n",
              "    .dataframe tbody tr th:only-of-type {\n",
              "        vertical-align: middle;\n",
              "    }\n",
              "\n",
              "    .dataframe tbody tr th {\n",
              "        vertical-align: top;\n",
              "    }\n",
              "\n",
              "    .dataframe thead th {\n",
              "        text-align: right;\n",
              "    }\n",
              "</style>\n",
              "<table border=\"1\" class=\"dataframe\">\n",
              "  <thead>\n",
              "    <tr style=\"text-align: right;\">\n",
              "      <th></th>\n",
              "      <th>Class</th>\n",
              "    </tr>\n",
              "  </thead>\n",
              "  <tbody>\n",
              "    <tr>\n",
              "      <th>7929</th>\n",
              "      <td>NaN</td>\n",
              "    </tr>\n",
              "    <tr>\n",
              "      <th>12727</th>\n",
              "      <td>NaN</td>\n",
              "    </tr>\n",
              "    <tr>\n",
              "      <th>12728</th>\n",
              "      <td>NaN</td>\n",
              "    </tr>\n",
              "  </tbody>\n",
              "</table>\n",
              "</div>"
            ],
            "text/plain": [
              "       Class\n",
              "7929     NaN\n",
              "12727    NaN\n",
              "12728    NaN"
            ]
          },
          "metadata": {
            "tags": []
          },
          "execution_count": 102
        }
      ]
    },
    {
      "cell_type": "code",
      "metadata": {
        "id": "7QyVMryBrtyt",
        "colab_type": "code",
        "colab": {}
      },
      "source": [
        "y_train.dropna(inplace = True)"
      ],
      "execution_count": 0,
      "outputs": []
    },
    {
      "cell_type": "code",
      "metadata": {
        "id": "DiPcBnKWsjdn",
        "colab_type": "code",
        "colab": {}
      },
      "source": [
        "X_train.drop(y_train.index[[7929,12727,12728]],inplace=True)"
      ],
      "execution_count": 0,
      "outputs": []
    },
    {
      "cell_type": "markdown",
      "metadata": {
        "id": "w1Si47hAqdeG",
        "colab_type": "text"
      },
      "source": [
        "\n",
        "\n",
        "---\n",
        "\n"
      ]
    },
    {
      "cell_type": "markdown",
      "metadata": {
        "id": "F_NKHSpMtmLx",
        "colab_type": "text"
      },
      "source": [
        "**Outliers**"
      ]
    },
    {
      "cell_type": "code",
      "metadata": {
        "id": "ZXUsr8pGtkG2",
        "colab_type": "code",
        "colab": {}
      },
      "source": [
        "from scipy.stats.mstats import winsorize\n",
        "## remove outliers 5% higher than the max and 5% lower than the min using for loop and winsorize\n",
        "for col in X_train: \n",
        "     X_train[col] = winsorize(X_train[col], limits=[0.05,0.05])"
      ],
      "execution_count": 0,
      "outputs": []
    },
    {
      "cell_type": "markdown",
      "metadata": {
        "id": "BjXy9B5AtMt-",
        "colab_type": "text"
      },
      "source": [
        "**Standardization**"
      ]
    },
    {
      "cell_type": "code",
      "metadata": {
        "id": "d9IExcDZtObV",
        "colab_type": "code",
        "outputId": "dd2e74ca-fed6-4ba6-9fec-a297bcf2c0e7",
        "colab": {
          "base_uri": "https://localhost:8080/",
          "height": 35
        }
      },
      "source": [
        "from sklearn.preprocessing import StandardScaler\n",
        "scaler = StandardScaler() # calculate mean and standard deviation of train set\n",
        "scaler.fit(X_train)"
      ],
      "execution_count": 0,
      "outputs": [
        {
          "output_type": "execute_result",
          "data": {
            "text/plain": [
              "StandardScaler(copy=True, with_mean=True, with_std=True)"
            ]
          },
          "metadata": {
            "tags": []
          },
          "execution_count": 109
        }
      ]
    },
    {
      "cell_type": "code",
      "metadata": {
        "id": "SbAo8-JItQ31",
        "colab_type": "code",
        "colab": {}
      },
      "source": [
        "X_train_scaled = scaler.transform(X_train) \n",
        "X_test_scaled = scaler.transform(X_test) "
      ],
      "execution_count": 0,
      "outputs": []
    },
    {
      "cell_type": "markdown",
      "metadata": {
        "id": "eiwCZNXstRwQ",
        "colab_type": "text"
      },
      "source": [
        "\n",
        "\n",
        "---\n",
        "\n"
      ]
    },
    {
      "cell_type": "markdown",
      "metadata": {
        "id": "Kg0m5aL6wWp4",
        "colab_type": "text"
      },
      "source": [
        "**Feature Importance**"
      ]
    },
    {
      "cell_type": "code",
      "metadata": {
        "id": "1_gyfc5AuvR0",
        "colab_type": "code",
        "outputId": "4657f174-a28b-4966-a0bb-07eb44d2162b",
        "colab": {
          "base_uri": "https://localhost:8080/",
          "height": 35
        }
      },
      "source": [
        "#check\n",
        "np.any(np.isnan(y_train))"
      ],
      "execution_count": 0,
      "outputs": [
        {
          "output_type": "execute_result",
          "data": {
            "text/plain": [
              "False"
            ]
          },
          "metadata": {
            "tags": []
          },
          "execution_count": 111
        }
      ]
    },
    {
      "cell_type": "code",
      "metadata": {
        "id": "NmCfb77tqb84",
        "colab_type": "code",
        "outputId": "f2967fd7-81f3-41c6-c1cf-e4f5685dddfc",
        "colab": {
          "base_uri": "https://localhost:8080/",
          "height": 72
        }
      },
      "source": [
        "#Import Random Forest Model\n",
        "from sklearn.ensemble import RandomForestClassifier\n",
        "\n",
        "#Create a Gaussian Classifier\n",
        "clf=RandomForestClassifier(n_estimators=100)\n",
        "\n",
        "#Train the model using the training sets y_pred=clf.predict(X_test)\n",
        "clf.fit(X_train,y_train)\n",
        "\n",
        "y_pred=clf.predict(X_test)"
      ],
      "execution_count": 0,
      "outputs": [
        {
          "output_type": "stream",
          "text": [
            "/usr/local/lib/python3.6/dist-packages/ipykernel_launcher.py:7: DataConversionWarning: A column-vector y was passed when a 1d array was expected. Please change the shape of y to (n_samples,), for example using ravel().\n",
            "  import sys\n"
          ],
          "name": "stderr"
        }
      ]
    },
    {
      "cell_type": "code",
      "metadata": {
        "id": "Z1euuv0GvRzj",
        "colab_type": "code",
        "outputId": "ee960503-2e85-441a-c44c-ec4251e3589b",
        "colab": {
          "base_uri": "https://localhost:8080/",
          "height": 158
        }
      },
      "source": [
        "RandomForestClassifier(bootstrap=True, class_weight=None, criterion='gini',\n",
        "            max_depth=None, max_features='auto', max_leaf_nodes=None,\n",
        "            min_impurity_decrease=0.0, min_impurity_split=None,\n",
        "            min_samples_leaf=1, min_samples_split=2,\n",
        "            min_weight_fraction_leaf=0.0, n_estimators=100, n_jobs=1,\n",
        "            oob_score=False, random_state=None, verbose=0,\n",
        "            warm_start=False)"
      ],
      "execution_count": 0,
      "outputs": [
        {
          "output_type": "execute_result",
          "data": {
            "text/plain": [
              "RandomForestClassifier(bootstrap=True, ccp_alpha=0.0, class_weight=None,\n",
              "                       criterion='gini', max_depth=None, max_features='auto',\n",
              "                       max_leaf_nodes=None, max_samples=None,\n",
              "                       min_impurity_decrease=0.0, min_impurity_split=None,\n",
              "                       min_samples_leaf=1, min_samples_split=2,\n",
              "                       min_weight_fraction_leaf=0.0, n_estimators=100, n_jobs=1,\n",
              "                       oob_score=False, random_state=None, verbose=0,\n",
              "                       warm_start=False)"
            ]
          },
          "metadata": {
            "tags": []
          },
          "execution_count": 113
        }
      ]
    },
    {
      "cell_type": "code",
      "metadata": {
        "id": "Om9twOwMv7N-",
        "colab_type": "code",
        "outputId": "5535016e-3f97-4a74-b564-0f74dd353ffd",
        "colab": {
          "base_uri": "https://localhost:8080/",
          "height": 229
        }
      },
      "source": [
        "feature_imp = pd.Series(clf.feature_importances_,index=X_train.columns).sort_values(ascending=False)\n",
        "feature_imp\n"
      ],
      "execution_count": 0,
      "outputs": [
        {
          "output_type": "execute_result",
          "data": {
            "text/plain": [
              "Effect_of_forex_changes_on_cash    0.008434\n",
              "EPS_Diluted                        0.007469\n",
              "Revenue_Growth                     0.007293\n",
              "Gross_Profit_Growth                0.007289\n",
              "Net_cash_flow_/_Change_in_cash     0.007237\n",
              "                                     ...   \n",
              "Preferred_Dividends                0.000938\n",
              "operatingProfitMargin              0.000133\n",
              "Sector                             0.000000\n",
              "cashConversionCycle                0.000000\n",
              "operatingCycle                     0.000000\n",
              "Length: 222, dtype: float64"
            ]
          },
          "metadata": {
            "tags": []
          },
          "execution_count": 126
        }
      ]
    },
    {
      "cell_type": "code",
      "metadata": {
        "id": "WP2AVHkexgzY",
        "colab_type": "code",
        "outputId": "898d7424-63e4-44dc-e64f-efe9177beebe",
        "colab": {
          "base_uri": "https://localhost:8080/",
          "height": 388
        }
      },
      "source": [
        "feature_imp[:20]"
      ],
      "execution_count": 0,
      "outputs": [
        {
          "output_type": "execute_result",
          "data": {
            "text/plain": [
              "Effect_of_forex_changes_on_cash           0.008434\n",
              "EPS_Diluted                               0.007469\n",
              "Revenue_Growth                            0.007293\n",
              "Gross_Profit_Growth                       0.007289\n",
              "Net_cash_flow_/_Change_in_cash            0.007237\n",
              "EPS                                       0.007113\n",
              "Financing_Cash_Flow                       0.007111\n",
              "Weighted_Average_Shares_Growth            0.006984\n",
              "EPS_Diluted_Growth                        0.006867\n",
              "Book_Value_per_Share_Growth               0.006801\n",
              "Operating_Cash_Flow_growth                0.006771\n",
              "Receivables_growth                        0.006679\n",
              "Weighted_Average_Shs_Out                  0.006677\n",
              "EPS_Growth                                0.006592\n",
              "Weighted_Average_Shares_Diluted_Growth    0.006536\n",
              "SG&A_Expenses_Growth                      0.006470\n",
              "Operating_Cash_Flow                       0.006444\n",
              "Retained_earnings_(deficit)               0.006419\n",
              "Operating_Income_Growth                   0.006399\n",
              "Operating_Cash_Flow_per_Share             0.006369\n",
              "dtype: float64"
            ]
          },
          "metadata": {
            "tags": []
          },
          "execution_count": 133
        }
      ]
    },
    {
      "cell_type": "code",
      "metadata": {
        "id": "4HHnweuHwdvY",
        "colab_type": "code",
        "outputId": "aa3a9159-efe3-4fe3-8f57-9556df2aea3d",
        "colab": {
          "base_uri": "https://localhost:8080/",
          "height": 35
        }
      },
      "source": [
        "import matplotlib.pyplot as plt\n",
        "import seaborn as sns\n",
        "%matplotlib inline\n",
        "# Creating a bar plot\n",
        "sns.barplot(x=feature_imp, y=feature_imp.index)\n",
        "# Add labels to your graph\n",
        "plt.xlabel('Feature Importance Score')\n",
        "plt.ylabel('Features')\n",
        "plt.title(\"Visualizing Important Features\")\n",
        "plt.legend()\n",
        "plt.show()"
      ],
      "execution_count": 0,
      "outputs": [
        {
          "output_type": "stream",
          "text": [
            "No handles with labels found to put in legend.\n"
          ],
          "name": "stderr"
        }
      ]
    },
    {
      "cell_type": "code",
      "metadata": {
        "id": "lTYpdIICwfq_",
        "colab_type": "code",
        "outputId": "862f4a5c-bc4c-44e8-c9f3-6b5b90272887",
        "colab": {
          "base_uri": "https://localhost:8080/",
          "height": 35
        }
      },
      "source": [
        "#Import scikit-learn metrics module for accuracy calculation\n",
        "from sklearn import metrics\n",
        "# Model Accuracy, how often is the classifier correct?\n",
        "print(\"Accuracy:\",metrics.accuracy_score(y_test, y_pred))"
      ],
      "execution_count": 0,
      "outputs": [
        {
          "output_type": "stream",
          "text": [
            "Accuracy: 0.6088838268792711\n"
          ],
          "name": "stdout"
        }
      ]
    }
  ]
}